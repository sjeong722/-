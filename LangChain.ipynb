{
  "nbformat": 4,
  "nbformat_minor": 0,
  "metadata": {
    "colab": {
      "provenance": [],
      "include_colab_link": true
    },
    "kernelspec": {
      "name": "python3",
      "display_name": "Python 3"
    },
    "language_info": {
      "name": "python"
    }
  },
  "cells": [
    {
      "cell_type": "markdown",
      "metadata": {
        "id": "view-in-github",
        "colab_type": "text"
      },
      "source": [
        "<a href=\"https://colab.research.google.com/github/sjeong722/-/blob/main/LangChain.ipynb\" target=\"_parent\"><img src=\"https://colab.research.google.com/assets/colab-badge.svg\" alt=\"Open In Colab\"/></a>"
      ]
    },
    {
      "cell_type": "code",
      "execution_count": null,
      "metadata": {
        "colab": {
          "base_uri": "https://localhost:8080/"
        },
        "id": "YMmQm4DGWPo-",
        "outputId": "9e943b0a-1585-4eb4-89cf-bb1c0af26a9a"
      },
      "outputs": [
        {
          "output_type": "stream",
          "name": "stdout",
          "text": [
            "Requirement already satisfied: bs4==0.0.2 in /usr/local/lib/python3.10/dist-packages (0.0.2)\n",
            "Requirement already satisfied: beautifulsoup4 in /usr/local/lib/python3.10/dist-packages (from bs4==0.0.2) (4.12.3)\n",
            "Requirement already satisfied: soupsieve>1.2 in /usr/local/lib/python3.10/dist-packages (from beautifulsoup4->bs4==0.0.2) (2.6)\n",
            "Requirement already satisfied: langchain==0.2.16 in /usr/local/lib/python3.10/dist-packages (0.2.16)\n",
            "Requirement already satisfied: PyYAML>=5.3 in /usr/local/lib/python3.10/dist-packages (from langchain==0.2.16) (6.0.2)\n",
            "Requirement already satisfied: SQLAlchemy<3,>=1.4 in /usr/local/lib/python3.10/dist-packages (from langchain==0.2.16) (2.0.36)\n",
            "Requirement already satisfied: aiohttp<4.0.0,>=3.8.3 in /usr/local/lib/python3.10/dist-packages (from langchain==0.2.16) (3.11.2)\n",
            "Requirement already satisfied: async-timeout<5.0.0,>=4.0.0 in /usr/local/lib/python3.10/dist-packages (from langchain==0.2.16) (4.0.3)\n",
            "Requirement already satisfied: langchain-core<0.3.0,>=0.2.38 in /usr/local/lib/python3.10/dist-packages (from langchain==0.2.16) (0.2.43)\n",
            "Requirement already satisfied: langchain-text-splitters<0.3.0,>=0.2.0 in /usr/local/lib/python3.10/dist-packages (from langchain==0.2.16) (0.2.4)\n",
            "Requirement already satisfied: langsmith<0.2.0,>=0.1.17 in /usr/local/lib/python3.10/dist-packages (from langchain==0.2.16) (0.1.144)\n",
            "Requirement already satisfied: numpy<2,>=1 in /usr/local/lib/python3.10/dist-packages (from langchain==0.2.16) (1.26.4)\n",
            "Requirement already satisfied: pydantic<3,>=1 in /usr/local/lib/python3.10/dist-packages (from langchain==0.2.16) (2.9.2)\n",
            "Requirement already satisfied: requests<3,>=2 in /usr/local/lib/python3.10/dist-packages (from langchain==0.2.16) (2.32.3)\n",
            "Requirement already satisfied: tenacity!=8.4.0,<9.0.0,>=8.1.0 in /usr/local/lib/python3.10/dist-packages (from langchain==0.2.16) (8.5.0)\n",
            "Requirement already satisfied: aiohappyeyeballs>=2.3.0 in /usr/local/lib/python3.10/dist-packages (from aiohttp<4.0.0,>=3.8.3->langchain==0.2.16) (2.4.3)\n",
            "Requirement already satisfied: aiosignal>=1.1.2 in /usr/local/lib/python3.10/dist-packages (from aiohttp<4.0.0,>=3.8.3->langchain==0.2.16) (1.3.1)\n",
            "Requirement already satisfied: attrs>=17.3.0 in /usr/local/lib/python3.10/dist-packages (from aiohttp<4.0.0,>=3.8.3->langchain==0.2.16) (24.2.0)\n",
            "Requirement already satisfied: frozenlist>=1.1.1 in /usr/local/lib/python3.10/dist-packages (from aiohttp<4.0.0,>=3.8.3->langchain==0.2.16) (1.5.0)\n",
            "Requirement already satisfied: multidict<7.0,>=4.5 in /usr/local/lib/python3.10/dist-packages (from aiohttp<4.0.0,>=3.8.3->langchain==0.2.16) (6.1.0)\n",
            "Requirement already satisfied: propcache>=0.2.0 in /usr/local/lib/python3.10/dist-packages (from aiohttp<4.0.0,>=3.8.3->langchain==0.2.16) (0.2.0)\n",
            "Requirement already satisfied: yarl<2.0,>=1.17.0 in /usr/local/lib/python3.10/dist-packages (from aiohttp<4.0.0,>=3.8.3->langchain==0.2.16) (1.17.2)\n",
            "Requirement already satisfied: jsonpatch<2.0,>=1.33 in /usr/local/lib/python3.10/dist-packages (from langchain-core<0.3.0,>=0.2.38->langchain==0.2.16) (1.33)\n",
            "Requirement already satisfied: packaging<25,>=23.2 in /usr/local/lib/python3.10/dist-packages (from langchain-core<0.3.0,>=0.2.38->langchain==0.2.16) (24.2)\n",
            "Requirement already satisfied: typing-extensions>=4.7 in /usr/local/lib/python3.10/dist-packages (from langchain-core<0.3.0,>=0.2.38->langchain==0.2.16) (4.12.2)\n",
            "Requirement already satisfied: httpx<1,>=0.23.0 in /usr/local/lib/python3.10/dist-packages (from langsmith<0.2.0,>=0.1.17->langchain==0.2.16) (0.27.2)\n",
            "Requirement already satisfied: orjson<4.0.0,>=3.9.14 in /usr/local/lib/python3.10/dist-packages (from langsmith<0.2.0,>=0.1.17->langchain==0.2.16) (3.10.11)\n",
            "Requirement already satisfied: requests-toolbelt<2.0.0,>=1.0.0 in /usr/local/lib/python3.10/dist-packages (from langsmith<0.2.0,>=0.1.17->langchain==0.2.16) (1.0.0)\n",
            "Requirement already satisfied: annotated-types>=0.6.0 in /usr/local/lib/python3.10/dist-packages (from pydantic<3,>=1->langchain==0.2.16) (0.7.0)\n",
            "Requirement already satisfied: pydantic-core==2.23.4 in /usr/local/lib/python3.10/dist-packages (from pydantic<3,>=1->langchain==0.2.16) (2.23.4)\n",
            "Requirement already satisfied: charset-normalizer<4,>=2 in /usr/local/lib/python3.10/dist-packages (from requests<3,>=2->langchain==0.2.16) (3.4.0)\n",
            "Requirement already satisfied: idna<4,>=2.5 in /usr/local/lib/python3.10/dist-packages (from requests<3,>=2->langchain==0.2.16) (3.10)\n",
            "Requirement already satisfied: urllib3<3,>=1.21.1 in /usr/local/lib/python3.10/dist-packages (from requests<3,>=2->langchain==0.2.16) (2.2.3)\n",
            "Requirement already satisfied: certifi>=2017.4.17 in /usr/local/lib/python3.10/dist-packages (from requests<3,>=2->langchain==0.2.16) (2024.8.30)\n",
            "Requirement already satisfied: greenlet!=0.4.17 in /usr/local/lib/python3.10/dist-packages (from SQLAlchemy<3,>=1.4->langchain==0.2.16) (3.1.1)\n",
            "Requirement already satisfied: anyio in /usr/local/lib/python3.10/dist-packages (from httpx<1,>=0.23.0->langsmith<0.2.0,>=0.1.17->langchain==0.2.16) (3.7.1)\n",
            "Requirement already satisfied: httpcore==1.* in /usr/local/lib/python3.10/dist-packages (from httpx<1,>=0.23.0->langsmith<0.2.0,>=0.1.17->langchain==0.2.16) (1.0.7)\n",
            "Requirement already satisfied: sniffio in /usr/local/lib/python3.10/dist-packages (from httpx<1,>=0.23.0->langsmith<0.2.0,>=0.1.17->langchain==0.2.16) (1.3.1)\n",
            "Requirement already satisfied: h11<0.15,>=0.13 in /usr/local/lib/python3.10/dist-packages (from httpcore==1.*->httpx<1,>=0.23.0->langsmith<0.2.0,>=0.1.17->langchain==0.2.16) (0.14.0)\n",
            "Requirement already satisfied: jsonpointer>=1.9 in /usr/local/lib/python3.10/dist-packages (from jsonpatch<2.0,>=1.33->langchain-core<0.3.0,>=0.2.38->langchain==0.2.16) (3.0.0)\n",
            "Requirement already satisfied: exceptiongroup in /usr/local/lib/python3.10/dist-packages (from anyio->httpx<1,>=0.23.0->langsmith<0.2.0,>=0.1.17->langchain==0.2.16) (1.2.2)\n",
            "Requirement already satisfied: langchain-community==0.2.16 in /usr/local/lib/python3.10/dist-packages (0.2.16)\n",
            "Requirement already satisfied: PyYAML>=5.3 in /usr/local/lib/python3.10/dist-packages (from langchain-community==0.2.16) (6.0.2)\n",
            "Requirement already satisfied: SQLAlchemy<3,>=1.4 in /usr/local/lib/python3.10/dist-packages (from langchain-community==0.2.16) (2.0.36)\n",
            "Requirement already satisfied: aiohttp<4.0.0,>=3.8.3 in /usr/local/lib/python3.10/dist-packages (from langchain-community==0.2.16) (3.11.2)\n",
            "Requirement already satisfied: dataclasses-json<0.7,>=0.5.7 in /usr/local/lib/python3.10/dist-packages (from langchain-community==0.2.16) (0.6.7)\n",
            "Requirement already satisfied: langchain<0.3.0,>=0.2.16 in /usr/local/lib/python3.10/dist-packages (from langchain-community==0.2.16) (0.2.16)\n",
            "Requirement already satisfied: langchain-core<0.3.0,>=0.2.38 in /usr/local/lib/python3.10/dist-packages (from langchain-community==0.2.16) (0.2.43)\n",
            "Requirement already satisfied: langsmith<0.2.0,>=0.1.0 in /usr/local/lib/python3.10/dist-packages (from langchain-community==0.2.16) (0.1.144)\n",
            "Requirement already satisfied: numpy<2,>=1 in /usr/local/lib/python3.10/dist-packages (from langchain-community==0.2.16) (1.26.4)\n",
            "Requirement already satisfied: requests<3,>=2 in /usr/local/lib/python3.10/dist-packages (from langchain-community==0.2.16) (2.32.3)\n",
            "Requirement already satisfied: tenacity!=8.4.0,<9.0.0,>=8.1.0 in /usr/local/lib/python3.10/dist-packages (from langchain-community==0.2.16) (8.5.0)\n",
            "Requirement already satisfied: aiohappyeyeballs>=2.3.0 in /usr/local/lib/python3.10/dist-packages (from aiohttp<4.0.0,>=3.8.3->langchain-community==0.2.16) (2.4.3)\n",
            "Requirement already satisfied: aiosignal>=1.1.2 in /usr/local/lib/python3.10/dist-packages (from aiohttp<4.0.0,>=3.8.3->langchain-community==0.2.16) (1.3.1)\n",
            "Requirement already satisfied: attrs>=17.3.0 in /usr/local/lib/python3.10/dist-packages (from aiohttp<4.0.0,>=3.8.3->langchain-community==0.2.16) (24.2.0)\n",
            "Requirement already satisfied: frozenlist>=1.1.1 in /usr/local/lib/python3.10/dist-packages (from aiohttp<4.0.0,>=3.8.3->langchain-community==0.2.16) (1.5.0)\n",
            "Requirement already satisfied: multidict<7.0,>=4.5 in /usr/local/lib/python3.10/dist-packages (from aiohttp<4.0.0,>=3.8.3->langchain-community==0.2.16) (6.1.0)\n",
            "Requirement already satisfied: propcache>=0.2.0 in /usr/local/lib/python3.10/dist-packages (from aiohttp<4.0.0,>=3.8.3->langchain-community==0.2.16) (0.2.0)\n",
            "Requirement already satisfied: yarl<2.0,>=1.17.0 in /usr/local/lib/python3.10/dist-packages (from aiohttp<4.0.0,>=3.8.3->langchain-community==0.2.16) (1.17.2)\n",
            "Requirement already satisfied: async-timeout<6.0,>=4.0 in /usr/local/lib/python3.10/dist-packages (from aiohttp<4.0.0,>=3.8.3->langchain-community==0.2.16) (4.0.3)\n",
            "Requirement already satisfied: marshmallow<4.0.0,>=3.18.0 in /usr/local/lib/python3.10/dist-packages (from dataclasses-json<0.7,>=0.5.7->langchain-community==0.2.16) (3.23.1)\n",
            "Requirement already satisfied: typing-inspect<1,>=0.4.0 in /usr/local/lib/python3.10/dist-packages (from dataclasses-json<0.7,>=0.5.7->langchain-community==0.2.16) (0.9.0)\n",
            "Requirement already satisfied: langchain-text-splitters<0.3.0,>=0.2.0 in /usr/local/lib/python3.10/dist-packages (from langchain<0.3.0,>=0.2.16->langchain-community==0.2.16) (0.2.4)\n",
            "Requirement already satisfied: pydantic<3,>=1 in /usr/local/lib/python3.10/dist-packages (from langchain<0.3.0,>=0.2.16->langchain-community==0.2.16) (2.9.2)\n",
            "Requirement already satisfied: jsonpatch<2.0,>=1.33 in /usr/local/lib/python3.10/dist-packages (from langchain-core<0.3.0,>=0.2.38->langchain-community==0.2.16) (1.33)\n",
            "Requirement already satisfied: packaging<25,>=23.2 in /usr/local/lib/python3.10/dist-packages (from langchain-core<0.3.0,>=0.2.38->langchain-community==0.2.16) (24.2)\n",
            "Requirement already satisfied: typing-extensions>=4.7 in /usr/local/lib/python3.10/dist-packages (from langchain-core<0.3.0,>=0.2.38->langchain-community==0.2.16) (4.12.2)\n",
            "Requirement already satisfied: httpx<1,>=0.23.0 in /usr/local/lib/python3.10/dist-packages (from langsmith<0.2.0,>=0.1.0->langchain-community==0.2.16) (0.27.2)\n",
            "Requirement already satisfied: orjson<4.0.0,>=3.9.14 in /usr/local/lib/python3.10/dist-packages (from langsmith<0.2.0,>=0.1.0->langchain-community==0.2.16) (3.10.11)\n",
            "Requirement already satisfied: requests-toolbelt<2.0.0,>=1.0.0 in /usr/local/lib/python3.10/dist-packages (from langsmith<0.2.0,>=0.1.0->langchain-community==0.2.16) (1.0.0)\n",
            "Requirement already satisfied: charset-normalizer<4,>=2 in /usr/local/lib/python3.10/dist-packages (from requests<3,>=2->langchain-community==0.2.16) (3.4.0)\n",
            "Requirement already satisfied: idna<4,>=2.5 in /usr/local/lib/python3.10/dist-packages (from requests<3,>=2->langchain-community==0.2.16) (3.10)\n",
            "Requirement already satisfied: urllib3<3,>=1.21.1 in /usr/local/lib/python3.10/dist-packages (from requests<3,>=2->langchain-community==0.2.16) (2.2.3)\n",
            "Requirement already satisfied: certifi>=2017.4.17 in /usr/local/lib/python3.10/dist-packages (from requests<3,>=2->langchain-community==0.2.16) (2024.8.30)\n",
            "Requirement already satisfied: greenlet!=0.4.17 in /usr/local/lib/python3.10/dist-packages (from SQLAlchemy<3,>=1.4->langchain-community==0.2.16) (3.1.1)\n",
            "Requirement already satisfied: anyio in /usr/local/lib/python3.10/dist-packages (from httpx<1,>=0.23.0->langsmith<0.2.0,>=0.1.0->langchain-community==0.2.16) (3.7.1)\n",
            "Requirement already satisfied: httpcore==1.* in /usr/local/lib/python3.10/dist-packages (from httpx<1,>=0.23.0->langsmith<0.2.0,>=0.1.0->langchain-community==0.2.16) (1.0.7)\n",
            "Requirement already satisfied: sniffio in /usr/local/lib/python3.10/dist-packages (from httpx<1,>=0.23.0->langsmith<0.2.0,>=0.1.0->langchain-community==0.2.16) (1.3.1)\n",
            "Requirement already satisfied: h11<0.15,>=0.13 in /usr/local/lib/python3.10/dist-packages (from httpcore==1.*->httpx<1,>=0.23.0->langsmith<0.2.0,>=0.1.0->langchain-community==0.2.16) (0.14.0)\n",
            "Requirement already satisfied: jsonpointer>=1.9 in /usr/local/lib/python3.10/dist-packages (from jsonpatch<2.0,>=1.33->langchain-core<0.3.0,>=0.2.38->langchain-community==0.2.16) (3.0.0)\n",
            "Requirement already satisfied: annotated-types>=0.6.0 in /usr/local/lib/python3.10/dist-packages (from pydantic<3,>=1->langchain<0.3.0,>=0.2.16->langchain-community==0.2.16) (0.7.0)\n",
            "Requirement already satisfied: pydantic-core==2.23.4 in /usr/local/lib/python3.10/dist-packages (from pydantic<3,>=1->langchain<0.3.0,>=0.2.16->langchain-community==0.2.16) (2.23.4)\n",
            "Requirement already satisfied: mypy-extensions>=0.3.0 in /usr/local/lib/python3.10/dist-packages (from typing-inspect<1,>=0.4.0->dataclasses-json<0.7,>=0.5.7->langchain-community==0.2.16) (1.0.0)\n",
            "Requirement already satisfied: exceptiongroup in /usr/local/lib/python3.10/dist-packages (from anyio->httpx<1,>=0.23.0->langsmith<0.2.0,>=0.1.0->langchain-community==0.2.16) (1.2.2)\n",
            "Requirement already satisfied: langchain-openai==0.1.23 in /usr/local/lib/python3.10/dist-packages (0.1.23)\n",
            "Requirement already satisfied: langchain-core<0.3.0,>=0.2.35 in /usr/local/lib/python3.10/dist-packages (from langchain-openai==0.1.23) (0.2.43)\n",
            "Requirement already satisfied: openai<2.0.0,>=1.40.0 in /usr/local/lib/python3.10/dist-packages (from langchain-openai==0.1.23) (1.54.4)\n",
            "Requirement already satisfied: tiktoken<1,>=0.7 in /usr/local/lib/python3.10/dist-packages (from langchain-openai==0.1.23) (0.8.0)\n",
            "Requirement already satisfied: PyYAML>=5.3 in /usr/local/lib/python3.10/dist-packages (from langchain-core<0.3.0,>=0.2.35->langchain-openai==0.1.23) (6.0.2)\n",
            "Requirement already satisfied: jsonpatch<2.0,>=1.33 in /usr/local/lib/python3.10/dist-packages (from langchain-core<0.3.0,>=0.2.35->langchain-openai==0.1.23) (1.33)\n",
            "Requirement already satisfied: langsmith<0.2.0,>=0.1.112 in /usr/local/lib/python3.10/dist-packages (from langchain-core<0.3.0,>=0.2.35->langchain-openai==0.1.23) (0.1.144)\n",
            "Requirement already satisfied: packaging<25,>=23.2 in /usr/local/lib/python3.10/dist-packages (from langchain-core<0.3.0,>=0.2.35->langchain-openai==0.1.23) (24.2)\n",
            "Requirement already satisfied: pydantic<3,>=1 in /usr/local/lib/python3.10/dist-packages (from langchain-core<0.3.0,>=0.2.35->langchain-openai==0.1.23) (2.9.2)\n",
            "Requirement already satisfied: tenacity!=8.4.0,<9.0.0,>=8.1.0 in /usr/local/lib/python3.10/dist-packages (from langchain-core<0.3.0,>=0.2.35->langchain-openai==0.1.23) (8.5.0)\n",
            "Requirement already satisfied: typing-extensions>=4.7 in /usr/local/lib/python3.10/dist-packages (from langchain-core<0.3.0,>=0.2.35->langchain-openai==0.1.23) (4.12.2)\n",
            "Requirement already satisfied: anyio<5,>=3.5.0 in /usr/local/lib/python3.10/dist-packages (from openai<2.0.0,>=1.40.0->langchain-openai==0.1.23) (3.7.1)\n",
            "Requirement already satisfied: distro<2,>=1.7.0 in /usr/local/lib/python3.10/dist-packages (from openai<2.0.0,>=1.40.0->langchain-openai==0.1.23) (1.9.0)\n",
            "Requirement already satisfied: httpx<1,>=0.23.0 in /usr/local/lib/python3.10/dist-packages (from openai<2.0.0,>=1.40.0->langchain-openai==0.1.23) (0.27.2)\n",
            "Requirement already satisfied: jiter<1,>=0.4.0 in /usr/local/lib/python3.10/dist-packages (from openai<2.0.0,>=1.40.0->langchain-openai==0.1.23) (0.7.1)\n",
            "Requirement already satisfied: sniffio in /usr/local/lib/python3.10/dist-packages (from openai<2.0.0,>=1.40.0->langchain-openai==0.1.23) (1.3.1)\n",
            "Requirement already satisfied: tqdm>4 in /usr/local/lib/python3.10/dist-packages (from openai<2.0.0,>=1.40.0->langchain-openai==0.1.23) (4.66.6)\n",
            "Requirement already satisfied: regex>=2022.1.18 in /usr/local/lib/python3.10/dist-packages (from tiktoken<1,>=0.7->langchain-openai==0.1.23) (2024.9.11)\n",
            "Requirement already satisfied: requests>=2.26.0 in /usr/local/lib/python3.10/dist-packages (from tiktoken<1,>=0.7->langchain-openai==0.1.23) (2.32.3)\n",
            "Requirement already satisfied: idna>=2.8 in /usr/local/lib/python3.10/dist-packages (from anyio<5,>=3.5.0->openai<2.0.0,>=1.40.0->langchain-openai==0.1.23) (3.10)\n",
            "Requirement already satisfied: exceptiongroup in /usr/local/lib/python3.10/dist-packages (from anyio<5,>=3.5.0->openai<2.0.0,>=1.40.0->langchain-openai==0.1.23) (1.2.2)\n",
            "Requirement already satisfied: certifi in /usr/local/lib/python3.10/dist-packages (from httpx<1,>=0.23.0->openai<2.0.0,>=1.40.0->langchain-openai==0.1.23) (2024.8.30)\n",
            "Requirement already satisfied: httpcore==1.* in /usr/local/lib/python3.10/dist-packages (from httpx<1,>=0.23.0->openai<2.0.0,>=1.40.0->langchain-openai==0.1.23) (1.0.7)\n",
            "Requirement already satisfied: h11<0.15,>=0.13 in /usr/local/lib/python3.10/dist-packages (from httpcore==1.*->httpx<1,>=0.23.0->openai<2.0.0,>=1.40.0->langchain-openai==0.1.23) (0.14.0)\n",
            "Requirement already satisfied: jsonpointer>=1.9 in /usr/local/lib/python3.10/dist-packages (from jsonpatch<2.0,>=1.33->langchain-core<0.3.0,>=0.2.35->langchain-openai==0.1.23) (3.0.0)\n",
            "Requirement already satisfied: orjson<4.0.0,>=3.9.14 in /usr/local/lib/python3.10/dist-packages (from langsmith<0.2.0,>=0.1.112->langchain-core<0.3.0,>=0.2.35->langchain-openai==0.1.23) (3.10.11)\n",
            "Requirement already satisfied: requests-toolbelt<2.0.0,>=1.0.0 in /usr/local/lib/python3.10/dist-packages (from langsmith<0.2.0,>=0.1.112->langchain-core<0.3.0,>=0.2.35->langchain-openai==0.1.23) (1.0.0)\n",
            "Requirement already satisfied: annotated-types>=0.6.0 in /usr/local/lib/python3.10/dist-packages (from pydantic<3,>=1->langchain-core<0.3.0,>=0.2.35->langchain-openai==0.1.23) (0.7.0)\n",
            "Requirement already satisfied: pydantic-core==2.23.4 in /usr/local/lib/python3.10/dist-packages (from pydantic<3,>=1->langchain-core<0.3.0,>=0.2.35->langchain-openai==0.1.23) (2.23.4)\n",
            "Requirement already satisfied: charset-normalizer<4,>=2 in /usr/local/lib/python3.10/dist-packages (from requests>=2.26.0->tiktoken<1,>=0.7->langchain-openai==0.1.23) (3.4.0)\n",
            "Requirement already satisfied: urllib3<3,>=1.21.1 in /usr/local/lib/python3.10/dist-packages (from requests>=2.26.0->tiktoken<1,>=0.7->langchain-openai==0.1.23) (2.2.3)\n",
            "Requirement already satisfied: langsmith==0.1.144 in /usr/local/lib/python3.10/dist-packages (0.1.144)\n",
            "Requirement already satisfied: httpx<1,>=0.23.0 in /usr/local/lib/python3.10/dist-packages (from langsmith==0.1.144) (0.27.2)\n",
            "Requirement already satisfied: orjson<4.0.0,>=3.9.14 in /usr/local/lib/python3.10/dist-packages (from langsmith==0.1.144) (3.10.11)\n",
            "Requirement already satisfied: pydantic<3,>=1 in /usr/local/lib/python3.10/dist-packages (from langsmith==0.1.144) (2.9.2)\n",
            "Requirement already satisfied: requests<3,>=2 in /usr/local/lib/python3.10/dist-packages (from langsmith==0.1.144) (2.32.3)\n",
            "Requirement already satisfied: requests-toolbelt<2.0.0,>=1.0.0 in /usr/local/lib/python3.10/dist-packages (from langsmith==0.1.144) (1.0.0)\n",
            "Requirement already satisfied: anyio in /usr/local/lib/python3.10/dist-packages (from httpx<1,>=0.23.0->langsmith==0.1.144) (3.7.1)\n",
            "Requirement already satisfied: certifi in /usr/local/lib/python3.10/dist-packages (from httpx<1,>=0.23.0->langsmith==0.1.144) (2024.8.30)\n",
            "Requirement already satisfied: httpcore==1.* in /usr/local/lib/python3.10/dist-packages (from httpx<1,>=0.23.0->langsmith==0.1.144) (1.0.7)\n",
            "Requirement already satisfied: idna in /usr/local/lib/python3.10/dist-packages (from httpx<1,>=0.23.0->langsmith==0.1.144) (3.10)\n",
            "Requirement already satisfied: sniffio in /usr/local/lib/python3.10/dist-packages (from httpx<1,>=0.23.0->langsmith==0.1.144) (1.3.1)\n",
            "Requirement already satisfied: h11<0.15,>=0.13 in /usr/local/lib/python3.10/dist-packages (from httpcore==1.*->httpx<1,>=0.23.0->langsmith==0.1.144) (0.14.0)\n",
            "Requirement already satisfied: annotated-types>=0.6.0 in /usr/local/lib/python3.10/dist-packages (from pydantic<3,>=1->langsmith==0.1.144) (0.7.0)\n",
            "Requirement already satisfied: pydantic-core==2.23.4 in /usr/local/lib/python3.10/dist-packages (from pydantic<3,>=1->langsmith==0.1.144) (2.23.4)\n",
            "Requirement already satisfied: typing-extensions>=4.6.1 in /usr/local/lib/python3.10/dist-packages (from pydantic<3,>=1->langsmith==0.1.144) (4.12.2)\n",
            "Requirement already satisfied: charset-normalizer<4,>=2 in /usr/local/lib/python3.10/dist-packages (from requests<3,>=2->langsmith==0.1.144) (3.4.0)\n",
            "Requirement already satisfied: urllib3<3,>=1.21.1 in /usr/local/lib/python3.10/dist-packages (from requests<3,>=2->langsmith==0.1.144) (2.2.3)\n",
            "Requirement already satisfied: exceptiongroup in /usr/local/lib/python3.10/dist-packages (from anyio->httpx<1,>=0.23.0->langsmith==0.1.144) (1.2.2)\n",
            "Collecting langchain-chroma==0.1.3\n",
            "  Downloading langchain_chroma-0.1.3-py3-none-any.whl.metadata (1.5 kB)\n",
            "Collecting chromadb!=0.5.4,!=0.5.5,<0.6.0,>=0.4.0 (from langchain-chroma==0.1.3)\n",
            "  Downloading chromadb-0.5.20-py3-none-any.whl.metadata (6.8 kB)\n",
            "Collecting fastapi<1,>=0.95.2 (from langchain-chroma==0.1.3)\n",
            "  Downloading fastapi-0.115.5-py3-none-any.whl.metadata (27 kB)\n",
            "Requirement already satisfied: langchain-core<0.3,>=0.1.40 in /usr/local/lib/python3.10/dist-packages (from langchain-chroma==0.1.3) (0.2.43)\n",
            "Requirement already satisfied: numpy<2,>=1 in /usr/local/lib/python3.10/dist-packages (from langchain-chroma==0.1.3) (1.26.4)\n",
            "Collecting build>=1.0.3 (from chromadb!=0.5.4,!=0.5.5,<0.6.0,>=0.4.0->langchain-chroma==0.1.3)\n",
            "  Downloading build-1.2.2.post1-py3-none-any.whl.metadata (6.5 kB)\n",
            "Requirement already satisfied: pydantic>=1.9 in /usr/local/lib/python3.10/dist-packages (from chromadb!=0.5.4,!=0.5.5,<0.6.0,>=0.4.0->langchain-chroma==0.1.3) (2.9.2)\n",
            "Collecting chroma-hnswlib==0.7.6 (from chromadb!=0.5.4,!=0.5.5,<0.6.0,>=0.4.0->langchain-chroma==0.1.3)\n",
            "  Downloading chroma_hnswlib-0.7.6-cp310-cp310-manylinux_2_17_x86_64.manylinux2014_x86_64.whl.metadata (252 bytes)\n",
            "Collecting uvicorn>=0.18.3 (from uvicorn[standard]>=0.18.3->chromadb!=0.5.4,!=0.5.5,<0.6.0,>=0.4.0->langchain-chroma==0.1.3)\n",
            "  Downloading uvicorn-0.32.1-py3-none-any.whl.metadata (6.6 kB)\n",
            "Collecting posthog>=2.4.0 (from chromadb!=0.5.4,!=0.5.5,<0.6.0,>=0.4.0->langchain-chroma==0.1.3)\n",
            "  Downloading posthog-3.7.2-py2.py3-none-any.whl.metadata (2.0 kB)\n",
            "Requirement already satisfied: typing-extensions>=4.5.0 in /usr/local/lib/python3.10/dist-packages (from chromadb!=0.5.4,!=0.5.5,<0.6.0,>=0.4.0->langchain-chroma==0.1.3) (4.12.2)\n",
            "Collecting onnxruntime>=1.14.1 (from chromadb!=0.5.4,!=0.5.5,<0.6.0,>=0.4.0->langchain-chroma==0.1.3)\n",
            "  Downloading onnxruntime-1.20.1-cp310-cp310-manylinux_2_27_x86_64.manylinux_2_28_x86_64.whl.metadata (4.5 kB)\n",
            "Requirement already satisfied: opentelemetry-api>=1.2.0 in /usr/local/lib/python3.10/dist-packages (from chromadb!=0.5.4,!=0.5.5,<0.6.0,>=0.4.0->langchain-chroma==0.1.3) (1.28.2)\n",
            "Collecting opentelemetry-exporter-otlp-proto-grpc>=1.2.0 (from chromadb!=0.5.4,!=0.5.5,<0.6.0,>=0.4.0->langchain-chroma==0.1.3)\n",
            "  Downloading opentelemetry_exporter_otlp_proto_grpc-1.28.2-py3-none-any.whl.metadata (2.2 kB)\n",
            "Collecting opentelemetry-instrumentation-fastapi>=0.41b0 (from chromadb!=0.5.4,!=0.5.5,<0.6.0,>=0.4.0->langchain-chroma==0.1.3)\n",
            "  Downloading opentelemetry_instrumentation_fastapi-0.49b2-py3-none-any.whl.metadata (2.1 kB)\n",
            "Requirement already satisfied: opentelemetry-sdk>=1.2.0 in /usr/local/lib/python3.10/dist-packages (from chromadb!=0.5.4,!=0.5.5,<0.6.0,>=0.4.0->langchain-chroma==0.1.3) (1.28.2)\n",
            "Requirement already satisfied: tokenizers>=0.13.2 in /usr/local/lib/python3.10/dist-packages (from chromadb!=0.5.4,!=0.5.5,<0.6.0,>=0.4.0->langchain-chroma==0.1.3) (0.20.3)\n",
            "Collecting pypika>=0.48.9 (from chromadb!=0.5.4,!=0.5.5,<0.6.0,>=0.4.0->langchain-chroma==0.1.3)\n",
            "  Downloading PyPika-0.48.9.tar.gz (67 kB)\n",
            "\u001b[2K     \u001b[90m━━━━━━━━━━━━━━━━━━━━━━━━━━━━━━━━━━━━━━━━\u001b[0m \u001b[32m67.3/67.3 kB\u001b[0m \u001b[31m4.2 MB/s\u001b[0m eta \u001b[36m0:00:00\u001b[0m\n",
            "\u001b[?25h  Installing build dependencies ... \u001b[?25l\u001b[?25hdone\n",
            "  Getting requirements to build wheel ... \u001b[?25l\u001b[?25hdone\n",
            "  Preparing metadata (pyproject.toml) ... \u001b[?25l\u001b[?25hdone\n",
            "Requirement already satisfied: tqdm>=4.65.0 in /usr/local/lib/python3.10/dist-packages (from chromadb!=0.5.4,!=0.5.5,<0.6.0,>=0.4.0->langchain-chroma==0.1.3) (4.66.6)\n",
            "Collecting overrides>=7.3.1 (from chromadb!=0.5.4,!=0.5.5,<0.6.0,>=0.4.0->langchain-chroma==0.1.3)\n",
            "  Downloading overrides-7.7.0-py3-none-any.whl.metadata (5.8 kB)\n",
            "Requirement already satisfied: importlib-resources in /usr/local/lib/python3.10/dist-packages (from chromadb!=0.5.4,!=0.5.5,<0.6.0,>=0.4.0->langchain-chroma==0.1.3) (6.4.5)\n",
            "Requirement already satisfied: grpcio>=1.58.0 in /usr/local/lib/python3.10/dist-packages (from chromadb!=0.5.4,!=0.5.5,<0.6.0,>=0.4.0->langchain-chroma==0.1.3) (1.68.0)\n",
            "Collecting bcrypt>=4.0.1 (from chromadb!=0.5.4,!=0.5.5,<0.6.0,>=0.4.0->langchain-chroma==0.1.3)\n",
            "  Downloading bcrypt-4.2.1-cp39-abi3-manylinux_2_28_x86_64.whl.metadata (9.8 kB)\n",
            "Requirement already satisfied: typer>=0.9.0 in /usr/local/lib/python3.10/dist-packages (from chromadb!=0.5.4,!=0.5.5,<0.6.0,>=0.4.0->langchain-chroma==0.1.3) (0.13.0)\n",
            "Collecting kubernetes>=28.1.0 (from chromadb!=0.5.4,!=0.5.5,<0.6.0,>=0.4.0->langchain-chroma==0.1.3)\n",
            "  Downloading kubernetes-31.0.0-py2.py3-none-any.whl.metadata (1.5 kB)\n",
            "Requirement already satisfied: tenacity>=8.2.3 in /usr/local/lib/python3.10/dist-packages (from chromadb!=0.5.4,!=0.5.5,<0.6.0,>=0.4.0->langchain-chroma==0.1.3) (8.5.0)\n",
            "Requirement already satisfied: PyYAML>=6.0.0 in /usr/local/lib/python3.10/dist-packages (from chromadb!=0.5.4,!=0.5.5,<0.6.0,>=0.4.0->langchain-chroma==0.1.3) (6.0.2)\n",
            "Collecting mmh3>=4.0.1 (from chromadb!=0.5.4,!=0.5.5,<0.6.0,>=0.4.0->langchain-chroma==0.1.3)\n",
            "  Downloading mmh3-5.0.1-cp310-cp310-manylinux_2_5_x86_64.manylinux1_x86_64.manylinux_2_17_x86_64.manylinux2014_x86_64.whl.metadata (14 kB)\n",
            "Requirement already satisfied: orjson>=3.9.12 in /usr/local/lib/python3.10/dist-packages (from chromadb!=0.5.4,!=0.5.5,<0.6.0,>=0.4.0->langchain-chroma==0.1.3) (3.10.11)\n",
            "Requirement already satisfied: httpx>=0.27.0 in /usr/local/lib/python3.10/dist-packages (from chromadb!=0.5.4,!=0.5.5,<0.6.0,>=0.4.0->langchain-chroma==0.1.3) (0.27.2)\n",
            "Requirement already satisfied: rich>=10.11.0 in /usr/local/lib/python3.10/dist-packages (from chromadb!=0.5.4,!=0.5.5,<0.6.0,>=0.4.0->langchain-chroma==0.1.3) (13.9.4)\n",
            "Collecting starlette<0.42.0,>=0.40.0 (from fastapi<1,>=0.95.2->langchain-chroma==0.1.3)\n",
            "  Downloading starlette-0.41.3-py3-none-any.whl.metadata (6.0 kB)\n",
            "Requirement already satisfied: jsonpatch<2.0,>=1.33 in /usr/local/lib/python3.10/dist-packages (from langchain-core<0.3,>=0.1.40->langchain-chroma==0.1.3) (1.33)\n",
            "Requirement already satisfied: langsmith<0.2.0,>=0.1.112 in /usr/local/lib/python3.10/dist-packages (from langchain-core<0.3,>=0.1.40->langchain-chroma==0.1.3) (0.1.144)\n",
            "Requirement already satisfied: packaging<25,>=23.2 in /usr/local/lib/python3.10/dist-packages (from langchain-core<0.3,>=0.1.40->langchain-chroma==0.1.3) (24.2)\n",
            "Collecting pyproject_hooks (from build>=1.0.3->chromadb!=0.5.4,!=0.5.5,<0.6.0,>=0.4.0->langchain-chroma==0.1.3)\n",
            "  Downloading pyproject_hooks-1.2.0-py3-none-any.whl.metadata (1.3 kB)\n",
            "Requirement already satisfied: tomli>=1.1.0 in /usr/local/lib/python3.10/dist-packages (from build>=1.0.3->chromadb!=0.5.4,!=0.5.5,<0.6.0,>=0.4.0->langchain-chroma==0.1.3) (2.1.0)\n",
            "Requirement already satisfied: anyio in /usr/local/lib/python3.10/dist-packages (from httpx>=0.27.0->chromadb!=0.5.4,!=0.5.5,<0.6.0,>=0.4.0->langchain-chroma==0.1.3) (3.7.1)\n",
            "Requirement already satisfied: certifi in /usr/local/lib/python3.10/dist-packages (from httpx>=0.27.0->chromadb!=0.5.4,!=0.5.5,<0.6.0,>=0.4.0->langchain-chroma==0.1.3) (2024.8.30)\n",
            "Requirement already satisfied: httpcore==1.* in /usr/local/lib/python3.10/dist-packages (from httpx>=0.27.0->chromadb!=0.5.4,!=0.5.5,<0.6.0,>=0.4.0->langchain-chroma==0.1.3) (1.0.7)\n",
            "Requirement already satisfied: idna in /usr/local/lib/python3.10/dist-packages (from httpx>=0.27.0->chromadb!=0.5.4,!=0.5.5,<0.6.0,>=0.4.0->langchain-chroma==0.1.3) (3.10)\n",
            "Requirement already satisfied: sniffio in /usr/local/lib/python3.10/dist-packages (from httpx>=0.27.0->chromadb!=0.5.4,!=0.5.5,<0.6.0,>=0.4.0->langchain-chroma==0.1.3) (1.3.1)\n",
            "Requirement already satisfied: h11<0.15,>=0.13 in /usr/local/lib/python3.10/dist-packages (from httpcore==1.*->httpx>=0.27.0->chromadb!=0.5.4,!=0.5.5,<0.6.0,>=0.4.0->langchain-chroma==0.1.3) (0.14.0)\n",
            "Requirement already satisfied: jsonpointer>=1.9 in /usr/local/lib/python3.10/dist-packages (from jsonpatch<2.0,>=1.33->langchain-core<0.3,>=0.1.40->langchain-chroma==0.1.3) (3.0.0)\n",
            "Requirement already satisfied: six>=1.9.0 in /usr/local/lib/python3.10/dist-packages (from kubernetes>=28.1.0->chromadb!=0.5.4,!=0.5.5,<0.6.0,>=0.4.0->langchain-chroma==0.1.3) (1.16.0)\n",
            "Requirement already satisfied: python-dateutil>=2.5.3 in /usr/local/lib/python3.10/dist-packages (from kubernetes>=28.1.0->chromadb!=0.5.4,!=0.5.5,<0.6.0,>=0.4.0->langchain-chroma==0.1.3) (2.8.2)\n",
            "Requirement already satisfied: google-auth>=1.0.1 in /usr/local/lib/python3.10/dist-packages (from kubernetes>=28.1.0->chromadb!=0.5.4,!=0.5.5,<0.6.0,>=0.4.0->langchain-chroma==0.1.3) (2.27.0)\n",
            "Requirement already satisfied: websocket-client!=0.40.0,!=0.41.*,!=0.42.*,>=0.32.0 in /usr/local/lib/python3.10/dist-packages (from kubernetes>=28.1.0->chromadb!=0.5.4,!=0.5.5,<0.6.0,>=0.4.0->langchain-chroma==0.1.3) (1.8.0)\n",
            "Requirement already satisfied: requests in /usr/local/lib/python3.10/dist-packages (from kubernetes>=28.1.0->chromadb!=0.5.4,!=0.5.5,<0.6.0,>=0.4.0->langchain-chroma==0.1.3) (2.32.3)\n",
            "Requirement already satisfied: requests-oauthlib in /usr/local/lib/python3.10/dist-packages (from kubernetes>=28.1.0->chromadb!=0.5.4,!=0.5.5,<0.6.0,>=0.4.0->langchain-chroma==0.1.3) (1.3.1)\n",
            "Requirement already satisfied: oauthlib>=3.2.2 in /usr/local/lib/python3.10/dist-packages (from kubernetes>=28.1.0->chromadb!=0.5.4,!=0.5.5,<0.6.0,>=0.4.0->langchain-chroma==0.1.3) (3.2.2)\n",
            "Requirement already satisfied: urllib3>=1.24.2 in /usr/local/lib/python3.10/dist-packages (from kubernetes>=28.1.0->chromadb!=0.5.4,!=0.5.5,<0.6.0,>=0.4.0->langchain-chroma==0.1.3) (2.2.3)\n",
            "Collecting durationpy>=0.7 (from kubernetes>=28.1.0->chromadb!=0.5.4,!=0.5.5,<0.6.0,>=0.4.0->langchain-chroma==0.1.3)\n",
            "  Downloading durationpy-0.9-py3-none-any.whl.metadata (338 bytes)\n",
            "Requirement already satisfied: requests-toolbelt<2.0.0,>=1.0.0 in /usr/local/lib/python3.10/dist-packages (from langsmith<0.2.0,>=0.1.112->langchain-core<0.3,>=0.1.40->langchain-chroma==0.1.3) (1.0.0)\n",
            "Collecting coloredlogs (from onnxruntime>=1.14.1->chromadb!=0.5.4,!=0.5.5,<0.6.0,>=0.4.0->langchain-chroma==0.1.3)\n",
            "  Downloading coloredlogs-15.0.1-py2.py3-none-any.whl.metadata (12 kB)\n",
            "Requirement already satisfied: flatbuffers in /usr/local/lib/python3.10/dist-packages (from onnxruntime>=1.14.1->chromadb!=0.5.4,!=0.5.5,<0.6.0,>=0.4.0->langchain-chroma==0.1.3) (24.3.25)\n",
            "Requirement already satisfied: protobuf in /usr/local/lib/python3.10/dist-packages (from onnxruntime>=1.14.1->chromadb!=0.5.4,!=0.5.5,<0.6.0,>=0.4.0->langchain-chroma==0.1.3) (4.25.5)\n",
            "Requirement already satisfied: sympy in /usr/local/lib/python3.10/dist-packages (from onnxruntime>=1.14.1->chromadb!=0.5.4,!=0.5.5,<0.6.0,>=0.4.0->langchain-chroma==0.1.3) (1.13.1)\n",
            "Requirement already satisfied: deprecated>=1.2.6 in /usr/local/lib/python3.10/dist-packages (from opentelemetry-api>=1.2.0->chromadb!=0.5.4,!=0.5.5,<0.6.0,>=0.4.0->langchain-chroma==0.1.3) (1.2.15)\n",
            "Requirement already satisfied: importlib-metadata<=8.5.0,>=6.0 in /usr/local/lib/python3.10/dist-packages (from opentelemetry-api>=1.2.0->chromadb!=0.5.4,!=0.5.5,<0.6.0,>=0.4.0->langchain-chroma==0.1.3) (8.5.0)\n",
            "Requirement already satisfied: googleapis-common-protos~=1.52 in /usr/local/lib/python3.10/dist-packages (from opentelemetry-exporter-otlp-proto-grpc>=1.2.0->chromadb!=0.5.4,!=0.5.5,<0.6.0,>=0.4.0->langchain-chroma==0.1.3) (1.66.0)\n",
            "Collecting opentelemetry-exporter-otlp-proto-common==1.28.2 (from opentelemetry-exporter-otlp-proto-grpc>=1.2.0->chromadb!=0.5.4,!=0.5.5,<0.6.0,>=0.4.0->langchain-chroma==0.1.3)\n",
            "  Downloading opentelemetry_exporter_otlp_proto_common-1.28.2-py3-none-any.whl.metadata (1.8 kB)\n",
            "Collecting opentelemetry-proto==1.28.2 (from opentelemetry-exporter-otlp-proto-grpc>=1.2.0->chromadb!=0.5.4,!=0.5.5,<0.6.0,>=0.4.0->langchain-chroma==0.1.3)\n",
            "  Downloading opentelemetry_proto-1.28.2-py3-none-any.whl.metadata (2.3 kB)\n",
            "Collecting protobuf (from onnxruntime>=1.14.1->chromadb!=0.5.4,!=0.5.5,<0.6.0,>=0.4.0->langchain-chroma==0.1.3)\n",
            "  Downloading protobuf-5.28.3-cp38-abi3-manylinux2014_x86_64.whl.metadata (592 bytes)\n",
            "Collecting opentelemetry-instrumentation-asgi==0.49b2 (from opentelemetry-instrumentation-fastapi>=0.41b0->chromadb!=0.5.4,!=0.5.5,<0.6.0,>=0.4.0->langchain-chroma==0.1.3)\n",
            "  Downloading opentelemetry_instrumentation_asgi-0.49b2-py3-none-any.whl.metadata (1.9 kB)\n",
            "Collecting opentelemetry-instrumentation==0.49b2 (from opentelemetry-instrumentation-fastapi>=0.41b0->chromadb!=0.5.4,!=0.5.5,<0.6.0,>=0.4.0->langchain-chroma==0.1.3)\n",
            "  Downloading opentelemetry_instrumentation-0.49b2-py3-none-any.whl.metadata (6.1 kB)\n",
            "Requirement already satisfied: opentelemetry-semantic-conventions==0.49b2 in /usr/local/lib/python3.10/dist-packages (from opentelemetry-instrumentation-fastapi>=0.41b0->chromadb!=0.5.4,!=0.5.5,<0.6.0,>=0.4.0->langchain-chroma==0.1.3) (0.49b2)\n",
            "Collecting opentelemetry-util-http==0.49b2 (from opentelemetry-instrumentation-fastapi>=0.41b0->chromadb!=0.5.4,!=0.5.5,<0.6.0,>=0.4.0->langchain-chroma==0.1.3)\n",
            "  Downloading opentelemetry_util_http-0.49b2-py3-none-any.whl.metadata (2.5 kB)\n",
            "Requirement already satisfied: wrapt<2.0.0,>=1.0.0 in /usr/local/lib/python3.10/dist-packages (from opentelemetry-instrumentation==0.49b2->opentelemetry-instrumentation-fastapi>=0.41b0->chromadb!=0.5.4,!=0.5.5,<0.6.0,>=0.4.0->langchain-chroma==0.1.3) (1.16.0)\n",
            "Collecting asgiref~=3.0 (from opentelemetry-instrumentation-asgi==0.49b2->opentelemetry-instrumentation-fastapi>=0.41b0->chromadb!=0.5.4,!=0.5.5,<0.6.0,>=0.4.0->langchain-chroma==0.1.3)\n",
            "  Downloading asgiref-3.8.1-py3-none-any.whl.metadata (9.3 kB)\n",
            "Collecting monotonic>=1.5 (from posthog>=2.4.0->chromadb!=0.5.4,!=0.5.5,<0.6.0,>=0.4.0->langchain-chroma==0.1.3)\n",
            "  Downloading monotonic-1.6-py2.py3-none-any.whl.metadata (1.5 kB)\n",
            "Collecting backoff>=1.10.0 (from posthog>=2.4.0->chromadb!=0.5.4,!=0.5.5,<0.6.0,>=0.4.0->langchain-chroma==0.1.3)\n",
            "  Downloading backoff-2.2.1-py3-none-any.whl.metadata (14 kB)\n",
            "Requirement already satisfied: annotated-types>=0.6.0 in /usr/local/lib/python3.10/dist-packages (from pydantic>=1.9->chromadb!=0.5.4,!=0.5.5,<0.6.0,>=0.4.0->langchain-chroma==0.1.3) (0.7.0)\n",
            "Requirement already satisfied: pydantic-core==2.23.4 in /usr/local/lib/python3.10/dist-packages (from pydantic>=1.9->chromadb!=0.5.4,!=0.5.5,<0.6.0,>=0.4.0->langchain-chroma==0.1.3) (2.23.4)\n",
            "Requirement already satisfied: markdown-it-py>=2.2.0 in /usr/local/lib/python3.10/dist-packages (from rich>=10.11.0->chromadb!=0.5.4,!=0.5.5,<0.6.0,>=0.4.0->langchain-chroma==0.1.3) (3.0.0)\n",
            "Requirement already satisfied: pygments<3.0.0,>=2.13.0 in /usr/local/lib/python3.10/dist-packages (from rich>=10.11.0->chromadb!=0.5.4,!=0.5.5,<0.6.0,>=0.4.0->langchain-chroma==0.1.3) (2.18.0)\n",
            "Requirement already satisfied: huggingface-hub<1.0,>=0.16.4 in /usr/local/lib/python3.10/dist-packages (from tokenizers>=0.13.2->chromadb!=0.5.4,!=0.5.5,<0.6.0,>=0.4.0->langchain-chroma==0.1.3) (0.26.2)\n",
            "Requirement already satisfied: click>=8.0.0 in /usr/local/lib/python3.10/dist-packages (from typer>=0.9.0->chromadb!=0.5.4,!=0.5.5,<0.6.0,>=0.4.0->langchain-chroma==0.1.3) (8.1.7)\n",
            "Requirement already satisfied: shellingham>=1.3.0 in /usr/local/lib/python3.10/dist-packages (from typer>=0.9.0->chromadb!=0.5.4,!=0.5.5,<0.6.0,>=0.4.0->langchain-chroma==0.1.3) (1.5.4)\n",
            "Collecting httptools>=0.6.3 (from uvicorn[standard]>=0.18.3->chromadb!=0.5.4,!=0.5.5,<0.6.0,>=0.4.0->langchain-chroma==0.1.3)\n",
            "  Downloading httptools-0.6.4-cp310-cp310-manylinux_2_5_x86_64.manylinux1_x86_64.manylinux_2_17_x86_64.manylinux2014_x86_64.whl.metadata (3.6 kB)\n",
            "Collecting python-dotenv>=0.13 (from uvicorn[standard]>=0.18.3->chromadb!=0.5.4,!=0.5.5,<0.6.0,>=0.4.0->langchain-chroma==0.1.3)\n",
            "  Downloading python_dotenv-1.0.1-py3-none-any.whl.metadata (23 kB)\n",
            "Collecting uvloop!=0.15.0,!=0.15.1,>=0.14.0 (from uvicorn[standard]>=0.18.3->chromadb!=0.5.4,!=0.5.5,<0.6.0,>=0.4.0->langchain-chroma==0.1.3)\n",
            "  Downloading uvloop-0.21.0-cp310-cp310-manylinux_2_17_x86_64.manylinux2014_x86_64.whl.metadata (4.9 kB)\n",
            "Collecting watchfiles>=0.13 (from uvicorn[standard]>=0.18.3->chromadb!=0.5.4,!=0.5.5,<0.6.0,>=0.4.0->langchain-chroma==0.1.3)\n",
            "  Downloading watchfiles-0.24.0-cp310-cp310-manylinux_2_17_x86_64.manylinux2014_x86_64.whl.metadata (4.9 kB)\n",
            "Collecting websockets>=10.4 (from uvicorn[standard]>=0.18.3->chromadb!=0.5.4,!=0.5.5,<0.6.0,>=0.4.0->langchain-chroma==0.1.3)\n",
            "  Downloading websockets-14.1-cp310-cp310-manylinux_2_5_x86_64.manylinux1_x86_64.manylinux_2_17_x86_64.manylinux2014_x86_64.whl.metadata (6.7 kB)\n",
            "Requirement already satisfied: exceptiongroup in /usr/local/lib/python3.10/dist-packages (from anyio->httpx>=0.27.0->chromadb!=0.5.4,!=0.5.5,<0.6.0,>=0.4.0->langchain-chroma==0.1.3) (1.2.2)\n",
            "Requirement already satisfied: cachetools<6.0,>=2.0.0 in /usr/local/lib/python3.10/dist-packages (from google-auth>=1.0.1->kubernetes>=28.1.0->chromadb!=0.5.4,!=0.5.5,<0.6.0,>=0.4.0->langchain-chroma==0.1.3) (5.5.0)\n",
            "Requirement already satisfied: pyasn1-modules>=0.2.1 in /usr/local/lib/python3.10/dist-packages (from google-auth>=1.0.1->kubernetes>=28.1.0->chromadb!=0.5.4,!=0.5.5,<0.6.0,>=0.4.0->langchain-chroma==0.1.3) (0.4.1)\n",
            "Requirement already satisfied: rsa<5,>=3.1.4 in /usr/local/lib/python3.10/dist-packages (from google-auth>=1.0.1->kubernetes>=28.1.0->chromadb!=0.5.4,!=0.5.5,<0.6.0,>=0.4.0->langchain-chroma==0.1.3) (4.9)\n",
            "Requirement already satisfied: filelock in /usr/local/lib/python3.10/dist-packages (from huggingface-hub<1.0,>=0.16.4->tokenizers>=0.13.2->chromadb!=0.5.4,!=0.5.5,<0.6.0,>=0.4.0->langchain-chroma==0.1.3) (3.16.1)\n",
            "Requirement already satisfied: fsspec>=2023.5.0 in /usr/local/lib/python3.10/dist-packages (from huggingface-hub<1.0,>=0.16.4->tokenizers>=0.13.2->chromadb!=0.5.4,!=0.5.5,<0.6.0,>=0.4.0->langchain-chroma==0.1.3) (2024.10.0)\n",
            "Requirement already satisfied: zipp>=3.20 in /usr/local/lib/python3.10/dist-packages (from importlib-metadata<=8.5.0,>=6.0->opentelemetry-api>=1.2.0->chromadb!=0.5.4,!=0.5.5,<0.6.0,>=0.4.0->langchain-chroma==0.1.3) (3.21.0)\n",
            "Requirement already satisfied: mdurl~=0.1 in /usr/local/lib/python3.10/dist-packages (from markdown-it-py>=2.2.0->rich>=10.11.0->chromadb!=0.5.4,!=0.5.5,<0.6.0,>=0.4.0->langchain-chroma==0.1.3) (0.1.2)\n",
            "Requirement already satisfied: charset-normalizer<4,>=2 in /usr/local/lib/python3.10/dist-packages (from requests->kubernetes>=28.1.0->chromadb!=0.5.4,!=0.5.5,<0.6.0,>=0.4.0->langchain-chroma==0.1.3) (3.4.0)\n",
            "Collecting humanfriendly>=9.1 (from coloredlogs->onnxruntime>=1.14.1->chromadb!=0.5.4,!=0.5.5,<0.6.0,>=0.4.0->langchain-chroma==0.1.3)\n",
            "  Downloading humanfriendly-10.0-py2.py3-none-any.whl.metadata (9.2 kB)\n",
            "Requirement already satisfied: mpmath<1.4,>=1.1.0 in /usr/local/lib/python3.10/dist-packages (from sympy->onnxruntime>=1.14.1->chromadb!=0.5.4,!=0.5.5,<0.6.0,>=0.4.0->langchain-chroma==0.1.3) (1.3.0)\n",
            "Requirement already satisfied: pyasn1<0.7.0,>=0.4.6 in /usr/local/lib/python3.10/dist-packages (from pyasn1-modules>=0.2.1->google-auth>=1.0.1->kubernetes>=28.1.0->chromadb!=0.5.4,!=0.5.5,<0.6.0,>=0.4.0->langchain-chroma==0.1.3) (0.6.1)\n",
            "Downloading langchain_chroma-0.1.3-py3-none-any.whl (10 kB)\n",
            "Downloading chromadb-0.5.20-py3-none-any.whl (617 kB)\n",
            "\u001b[2K   \u001b[90m━━━━━━━━━━━━━━━━━━━━━━━━━━━━━━━━━━━━━━━━\u001b[0m \u001b[32m617.9/617.9 kB\u001b[0m \u001b[31m20.4 MB/s\u001b[0m eta \u001b[36m0:00:00\u001b[0m\n",
            "\u001b[?25hDownloading chroma_hnswlib-0.7.6-cp310-cp310-manylinux_2_17_x86_64.manylinux2014_x86_64.whl (2.4 MB)\n",
            "\u001b[2K   \u001b[90m━━━━━━━━━━━━━━━━━━━━━━━━━━━━━━━━━━━━━━━━\u001b[0m \u001b[32m2.4/2.4 MB\u001b[0m \u001b[31m63.6 MB/s\u001b[0m eta \u001b[36m0:00:00\u001b[0m\n",
            "\u001b[?25hDownloading fastapi-0.115.5-py3-none-any.whl (94 kB)\n",
            "\u001b[2K   \u001b[90m━━━━━━━━━━━━━━━━━━━━━━━━━━━━━━━━━━━━━━━━\u001b[0m \u001b[32m94.9/94.9 kB\u001b[0m \u001b[31m7.6 MB/s\u001b[0m eta \u001b[36m0:00:00\u001b[0m\n",
            "\u001b[?25hDownloading bcrypt-4.2.1-cp39-abi3-manylinux_2_28_x86_64.whl (278 kB)\n",
            "\u001b[2K   \u001b[90m━━━━━━━━━━━━━━━━━━━━━━━━━━━━━━━━━━━━━━━━\u001b[0m \u001b[32m278.6/278.6 kB\u001b[0m \u001b[31m20.5 MB/s\u001b[0m eta \u001b[36m0:00:00\u001b[0m\n",
            "\u001b[?25hDownloading build-1.2.2.post1-py3-none-any.whl (22 kB)\n",
            "Downloading kubernetes-31.0.0-py2.py3-none-any.whl (1.9 MB)\n",
            "\u001b[2K   \u001b[90m━━━━━━━━━━━━━━━━━━━━━━━━━━━━━━━━━━━━━━━━\u001b[0m \u001b[32m1.9/1.9 MB\u001b[0m \u001b[31m58.1 MB/s\u001b[0m eta \u001b[36m0:00:00\u001b[0m\n",
            "\u001b[?25hDownloading mmh3-5.0.1-cp310-cp310-manylinux_2_5_x86_64.manylinux1_x86_64.manylinux_2_17_x86_64.manylinux2014_x86_64.whl (93 kB)\n",
            "\u001b[2K   \u001b[90m━━━━━━━━━━━━━━━━━━━━━━━━━━━━━━━━━━━━━━━━\u001b[0m \u001b[32m93.2/93.2 kB\u001b[0m \u001b[31m7.4 MB/s\u001b[0m eta \u001b[36m0:00:00\u001b[0m\n",
            "\u001b[?25hDownloading onnxruntime-1.20.1-cp310-cp310-manylinux_2_27_x86_64.manylinux_2_28_x86_64.whl (13.3 MB)\n",
            "\u001b[2K   \u001b[90m━━━━━━━━━━━━━━━━━━━━━━━━━━━━━━━━━━━━━━━━\u001b[0m \u001b[32m13.3/13.3 MB\u001b[0m \u001b[31m64.3 MB/s\u001b[0m eta \u001b[36m0:00:00\u001b[0m\n",
            "\u001b[?25hDownloading opentelemetry_exporter_otlp_proto_grpc-1.28.2-py3-none-any.whl (18 kB)\n",
            "Downloading opentelemetry_exporter_otlp_proto_common-1.28.2-py3-none-any.whl (18 kB)\n",
            "Downloading opentelemetry_proto-1.28.2-py3-none-any.whl (55 kB)\n",
            "\u001b[2K   \u001b[90m━━━━━━━━━━━━━━━━━━━━━━━━━━━━━━━━━━━━━━━━\u001b[0m \u001b[32m55.8/55.8 kB\u001b[0m \u001b[31m4.1 MB/s\u001b[0m eta \u001b[36m0:00:00\u001b[0m\n",
            "\u001b[?25hDownloading opentelemetry_instrumentation_fastapi-0.49b2-py3-none-any.whl (12 kB)\n",
            "Downloading opentelemetry_instrumentation-0.49b2-py3-none-any.whl (30 kB)\n",
            "Downloading opentelemetry_instrumentation_asgi-0.49b2-py3-none-any.whl (16 kB)\n",
            "Downloading opentelemetry_util_http-0.49b2-py3-none-any.whl (6.9 kB)\n",
            "Downloading overrides-7.7.0-py3-none-any.whl (17 kB)\n",
            "Downloading posthog-3.7.2-py2.py3-none-any.whl (54 kB)\n",
            "\u001b[2K   \u001b[90m━━━━━━━━━━━━━━━━━━━━━━━━━━━━━━━━━━━━━━━━\u001b[0m \u001b[32m54.4/54.4 kB\u001b[0m \u001b[31m4.5 MB/s\u001b[0m eta \u001b[36m0:00:00\u001b[0m\n",
            "\u001b[?25hDownloading starlette-0.41.3-py3-none-any.whl (73 kB)\n",
            "\u001b[2K   \u001b[90m━━━━━━━━━━━━━━━━━━━━━━━━━━━━━━━━━━━━━━━━\u001b[0m \u001b[32m73.2/73.2 kB\u001b[0m \u001b[31m5.6 MB/s\u001b[0m eta \u001b[36m0:00:00\u001b[0m\n",
            "\u001b[?25hDownloading uvicorn-0.32.1-py3-none-any.whl (63 kB)\n",
            "\u001b[2K   \u001b[90m━━━━━━━━━━━━━━━━━━━━━━━━━━━━━━━━━━━━━━━━\u001b[0m \u001b[32m63.8/63.8 kB\u001b[0m \u001b[31m5.5 MB/s\u001b[0m eta \u001b[36m0:00:00\u001b[0m\n",
            "\u001b[?25hDownloading backoff-2.2.1-py3-none-any.whl (15 kB)\n",
            "Downloading durationpy-0.9-py3-none-any.whl (3.5 kB)\n",
            "Downloading httptools-0.6.4-cp310-cp310-manylinux_2_5_x86_64.manylinux1_x86_64.manylinux_2_17_x86_64.manylinux2014_x86_64.whl (442 kB)\n",
            "\u001b[2K   \u001b[90m━━━━━━━━━━━━━━━━━━━━━━━━━━━━━━━━━━━━━━━━\u001b[0m \u001b[32m442.1/442.1 kB\u001b[0m \u001b[31m30.8 MB/s\u001b[0m eta \u001b[36m0:00:00\u001b[0m\n",
            "\u001b[?25hDownloading monotonic-1.6-py2.py3-none-any.whl (8.2 kB)\n",
            "Downloading protobuf-5.28.3-cp38-abi3-manylinux2014_x86_64.whl (316 kB)\n",
            "\u001b[2K   \u001b[90m━━━━━━━━━━━━━━━━━━━━━━━━━━━━━━━━━━━━━━━━\u001b[0m \u001b[32m316.6/316.6 kB\u001b[0m \u001b[31m26.9 MB/s\u001b[0m eta \u001b[36m0:00:00\u001b[0m\n",
            "\u001b[?25hDownloading python_dotenv-1.0.1-py3-none-any.whl (19 kB)\n",
            "Downloading uvloop-0.21.0-cp310-cp310-manylinux_2_17_x86_64.manylinux2014_x86_64.whl (3.8 MB)\n",
            "\u001b[2K   \u001b[90m━━━━━━━━━━━━━━━━━━━━━━━━━━━━━━━━━━━━━━━━\u001b[0m \u001b[32m3.8/3.8 MB\u001b[0m \u001b[31m69.2 MB/s\u001b[0m eta \u001b[36m0:00:00\u001b[0m\n",
            "\u001b[?25hDownloading watchfiles-0.24.0-cp310-cp310-manylinux_2_17_x86_64.manylinux2014_x86_64.whl (425 kB)\n",
            "\u001b[2K   \u001b[90m━━━━━━━━━━━━━━━━━━━━━━━━━━━━━━━━━━━━━━━━\u001b[0m \u001b[32m425.7/425.7 kB\u001b[0m \u001b[31m26.6 MB/s\u001b[0m eta \u001b[36m0:00:00\u001b[0m\n",
            "\u001b[?25hDownloading websockets-14.1-cp310-cp310-manylinux_2_5_x86_64.manylinux1_x86_64.manylinux_2_17_x86_64.manylinux2014_x86_64.whl (168 kB)\n",
            "\u001b[2K   \u001b[90m━━━━━━━━━━━━━━━━━━━━━━━━━━━━━━━━━━━━━━━━\u001b[0m \u001b[32m168.2/168.2 kB\u001b[0m \u001b[31m13.5 MB/s\u001b[0m eta \u001b[36m0:00:00\u001b[0m\n",
            "\u001b[?25hDownloading coloredlogs-15.0.1-py2.py3-none-any.whl (46 kB)\n",
            "\u001b[2K   \u001b[90m━━━━━━━━━━━━━━━━━━━━━━━━━━━━━━━━━━━━━━━━\u001b[0m \u001b[32m46.0/46.0 kB\u001b[0m \u001b[31m4.0 MB/s\u001b[0m eta \u001b[36m0:00:00\u001b[0m\n",
            "\u001b[?25hDownloading pyproject_hooks-1.2.0-py3-none-any.whl (10 kB)\n",
            "Downloading asgiref-3.8.1-py3-none-any.whl (23 kB)\n",
            "Downloading humanfriendly-10.0-py2.py3-none-any.whl (86 kB)\n",
            "\u001b[2K   \u001b[90m━━━━━━━━━━━━━━━━━━━━━━━━━━━━━━━━━━━━━━━━\u001b[0m \u001b[32m86.8/86.8 kB\u001b[0m \u001b[31m7.7 MB/s\u001b[0m eta \u001b[36m0:00:00\u001b[0m\n",
            "\u001b[?25hBuilding wheels for collected packages: pypika\n",
            "  Building wheel for pypika (pyproject.toml) ... \u001b[?25l\u001b[?25hdone\n",
            "  Created wheel for pypika: filename=PyPika-0.48.9-py2.py3-none-any.whl size=53725 sha256=e7bd4218166e73af88dcf9ccd10478dc229f7142dea87f998d50103e2ded67f5\n",
            "  Stored in directory: /root/.cache/pip/wheels/e1/26/51/d0bffb3d2fd82256676d7ad3003faea3bd6dddc9577af665f4\n",
            "Successfully built pypika\n",
            "Installing collected packages: pypika, monotonic, durationpy, websockets, uvloop, uvicorn, python-dotenv, pyproject_hooks, protobuf, overrides, opentelemetry-util-http, mmh3, humanfriendly, httptools, chroma-hnswlib, bcrypt, backoff, asgiref, watchfiles, starlette, posthog, opentelemetry-proto, coloredlogs, build, opentelemetry-exporter-otlp-proto-common, onnxruntime, kubernetes, fastapi, opentelemetry-instrumentation, opentelemetry-instrumentation-asgi, opentelemetry-exporter-otlp-proto-grpc, opentelemetry-instrumentation-fastapi, chromadb, langchain-chroma\n",
            "  Attempting uninstall: protobuf\n",
            "    Found existing installation: protobuf 4.25.5\n",
            "    Uninstalling protobuf-4.25.5:\n",
            "      Successfully uninstalled protobuf-4.25.5\n",
            "\u001b[31mERROR: pip's dependency resolver does not currently take into account all the packages that are installed. This behaviour is the source of the following dependency conflicts.\n",
            "tensorflow 2.17.1 requires protobuf!=4.21.0,!=4.21.1,!=4.21.2,!=4.21.3,!=4.21.4,!=4.21.5,<5.0.0dev,>=3.20.3, but you have protobuf 5.28.3 which is incompatible.\n",
            "tensorflow-metadata 1.13.1 requires protobuf<5,>=3.20.3, but you have protobuf 5.28.3 which is incompatible.\u001b[0m\u001b[31m\n",
            "\u001b[0mSuccessfully installed asgiref-3.8.1 backoff-2.2.1 bcrypt-4.2.1 build-1.2.2.post1 chroma-hnswlib-0.7.6 chromadb-0.5.20 coloredlogs-15.0.1 durationpy-0.9 fastapi-0.115.5 httptools-0.6.4 humanfriendly-10.0 kubernetes-31.0.0 langchain-chroma-0.1.3 mmh3-5.0.1 monotonic-1.6 onnxruntime-1.20.1 opentelemetry-exporter-otlp-proto-common-1.28.2 opentelemetry-exporter-otlp-proto-grpc-1.28.2 opentelemetry-instrumentation-0.49b2 opentelemetry-instrumentation-asgi-0.49b2 opentelemetry-instrumentation-fastapi-0.49b2 opentelemetry-proto-1.28.2 opentelemetry-util-http-0.49b2 overrides-7.7.0 posthog-3.7.2 protobuf-5.28.3 pypika-0.48.9 pyproject_hooks-1.2.0 python-dotenv-1.0.1 starlette-0.41.3 uvicorn-0.32.1 uvloop-0.21.0 watchfiles-0.24.0 websockets-14.1\n"
          ]
        }
      ],
      "source": [
        "!pip install bs4==0.0.2\n",
        "!pip install langchain==0.2.16\n",
        "!pip install langchain-community==0.2.16\n",
        "!pip install langchain-openai==0.1.23\n",
        "!pip install langsmith==0.1.144\n",
        "!pip install langchain-chroma==0.1.3"
      ]
    },
    {
      "cell_type": "code",
      "source": [
        "from google.colab import userdata\n",
        "import os\n",
        "\n",
        "os.environ[\"OPENAI_API_KEY\"] = userdata.get('OPENAI_API_KEY')"
      ],
      "metadata": {
        "id": "PcFygpsFWWSx"
      },
      "execution_count": null,
      "outputs": []
    },
    {
      "cell_type": "code",
      "source": [
        "from langchain_openai import ChatOpenAI\n",
        "from langchain_core.messages import HumanMessage, SystemMessage, AIMessage\n",
        "\n",
        "# LLM 모델, OpenAI 외에 다른 모델도 유사하게 불러와서 쓰면 된다.\n",
        "llm = ChatOpenAI(model=\"gpt-4o-mini\")\n",
        "\n",
        "# messages. LLM 에 들어갈 메세지를 넣어준다.\n",
        "# SystemMessage 는 대화 바깥의 메세지. 시스템에게 명령을 입력해두는 것\n",
        "# HumanMessage 는 대화에서 인간 측의 메세지\n",
        "messages = [\n",
        "    SystemMessage(content=\"다음을 영어에서 한국어로 번역하세요.\"),\n",
        "    HumanMessage(content=\"hi!\"),\n",
        "]\n",
        "\n",
        "# LLM 에 message 를 invoke 하면 결과를 받아볼 수 있다.\n",
        "result = llm.invoke(messages)\n",
        "# call\n",
        "\n",
        "\n",
        "print(f'결과 : {result.content}, input={result.usage_metadata.get(\"input_tokens\")}, output={result.usage_metadata.get(\"output_tokens\")}')"
      ],
      "metadata": {
        "colab": {
          "base_uri": "https://localhost:8080/"
        },
        "id": "YhSSEOciWltn",
        "outputId": "4df89eb0-2ef2-44d6-f451-d25868d2ce56"
      },
      "execution_count": null,
      "outputs": [
        {
          "output_type": "stream",
          "name": "stdout",
          "text": [
            "결과 : 안녕하세요!, input=24, output=3\n"
          ]
        }
      ]
    },
    {
      "cell_type": "code",
      "source": [
        "from langchain_openai import ChatOpenAI\n",
        "from langchain_core.messages import HumanMessage, SystemMessage\n",
        "from langchain_core.output_parsers import StrOutputParser\n",
        "\n",
        "\n",
        "llm = ChatOpenAI(model=\"gpt-4o\")\n",
        "\n",
        "messages = [\n",
        "    SystemMessage(content=\"Translate the following from English into Korean\"),\n",
        "    HumanMessage(content=\"hi!\"),\n",
        "]\n",
        "\n",
        "# StrOutputParser 는 결과물에서 Str(문자열)만 뽑아준다\n",
        "parser = StrOutputParser()\n",
        "\n",
        "\n",
        "result = llm.invoke(messages)\n",
        "print(result) # content='안녕!' additional_kwargs={'refusal': None} response_metadata......\n",
        "\n",
        "result = parser.invoke(result)\n",
        "print(result) # 안녕!\n"
      ],
      "metadata": {
        "colab": {
          "base_uri": "https://localhost:8080/"
        },
        "id": "nBF5YcLIW2N9",
        "outputId": "4617cd64-a338-4431-fced-15816e97a7d7"
      },
      "execution_count": null,
      "outputs": [
        {
          "output_type": "stream",
          "name": "stdout",
          "text": [
            "content='안녕하세요!' additional_kwargs={'refusal': None} response_metadata={'token_usage': {'completion_tokens': 3, 'prompt_tokens': 20, 'total_tokens': 23, 'completion_tokens_details': {'accepted_prediction_tokens': 0, 'audio_tokens': 0, 'reasoning_tokens': 0, 'rejected_prediction_tokens': 0}, 'prompt_tokens_details': {'audio_tokens': 0, 'cached_tokens': 0}}, 'model_name': 'gpt-4o-2024-08-06', 'system_fingerprint': 'fp_7f6be3efb0', 'finish_reason': 'stop', 'logprobs': None} id='run-57083fec-72ab-43f3-b866-a081ecbad5fb-0' usage_metadata={'input_tokens': 20, 'output_tokens': 3, 'total_tokens': 23}\n",
            "안녕하세요!\n"
          ]
        }
      ]
    },
    {
      "cell_type": "code",
      "source": [
        "from langchain_openai import ChatOpenAI\n",
        "from langchain_core.messages import HumanMessage, SystemMessage\n",
        "from langchain_core.output_parsers import StrOutputParser\n",
        "\n",
        "parser = StrOutputParser()\n",
        "model = ChatOpenAI(model=\"gpt-4o-mini\")\n",
        "messages = [\n",
        "    SystemMessage(content=\"Translate the following from English into Korean\"),\n",
        "    HumanMessage(content=\"hi!\"),\n",
        "]\n",
        "\n",
        "# invoke 를 연쇄적으로 호출하는 경우 LECL(랭체인 표현식 언어) 로 chaining 을 한 다음\n",
        "chain = model | parser\n",
        "\n",
        "\n",
        "# 한 번의 invoke 로 처리할 수 있다.\n",
        "result = chain.invoke(messages)\n",
        "\n",
        "# 이렇게 invoke 가 가능한 객체를 랭체인에서는 Runnable 이라고 부른다.\n",
        "print(result)\n"
      ],
      "metadata": {
        "colab": {
          "base_uri": "https://localhost:8080/"
        },
        "id": "yuk5ULUWZJQF",
        "outputId": "9d3b9d45-297d-4edf-e5f2-60af207ed06d"
      },
      "execution_count": null,
      "outputs": [
        {
          "output_type": "stream",
          "name": "stdout",
          "text": [
            "안녕하세요!\n"
          ]
        }
      ]
    },
    {
      "cell_type": "code",
      "source": [
        "from langchain_core.prompts import ChatPromptTemplate\n",
        "\n",
        "prompt_template = ChatPromptTemplate.from_messages(\n",
        "    [\n",
        "        (\"system\", \"Translate the following into {language}:\"),\n",
        "        (\"user\", \"{text}\")\n",
        "    ]\n",
        ")\n",
        "\n",
        "# Prompt 에 자리(language, text) 만들어두고 invoke 하면 해당 자리에 들어간다\n",
        "korean_translator_prompt = prompt_template.invoke({\"language\": \"Korean\", \"text\": \"hi\"})\n",
        "\n",
        "english_translator_prompt = prompt_template.invoke({\"language\": \"English\", \"text\": \"hi\"})\n",
        "\n",
        "# invoke 가 되기 때문에 Prompt 도 하나의 Runnable 로 취급되는걸 알 수 있다.\n",
        "print(result)"
      ],
      "metadata": {
        "colab": {
          "base_uri": "https://localhost:8080/"
        },
        "id": "jkJrVEMyaAoQ",
        "outputId": "276eba76-1a86-43c6-e820-3d2af07503cd"
      },
      "execution_count": null,
      "outputs": [
        {
          "output_type": "stream",
          "name": "stdout",
          "text": [
            "messages=[SystemMessage(content='Translate the following into Korean:'), HumanMessage(content='hi')]\n"
          ]
        }
      ]
    },
    {
      "cell_type": "code",
      "source": [
        "from langchain_core.prompts import ChatPromptTemplate\n",
        "from langchain_openai import ChatOpenAI\n",
        "from langchain_core.messages import HumanMessage, SystemMessage\n",
        "from langchain_core.output_parsers import StrOutputParser\n",
        "\n",
        "prompt_template = ChatPromptTemplate.from_messages(\n",
        "    [(\"system\", \"Translate the following into {language}:\"), (\"user\", \"{text}\")]\n",
        ")\n",
        "llm = ChatOpenAI(model=\"gpt-4o-mini\")\n",
        "parser = StrOutputParser()\n",
        "\n",
        "# prompt, llm, parser 세 개의 Runnable 을 체이닝해서 체인으로 만든 상태\n",
        "chain = prompt_template | llm | parser\n",
        "\n",
        "# 입력({\"language\": \"Korean\", \"text\": \"Hi!\"})이 prompt 로,\n",
        "# prompt 결과물을 입력으로 써서 LLM 을 호출,\n",
        "# LLM 결과물을 입력으로 써서 parser 호출\n",
        "result = chain.invoke({\"language\": \"Korean\", \"text\": \"Hi!\"})\n",
        "\n",
        "# result 에는 최종적으로 parser 의 결과물이 나온다.\n",
        "print(result)\n"
      ],
      "metadata": {
        "colab": {
          "base_uri": "https://localhost:8080/"
        },
        "id": "NKJLvpIqb4eV",
        "outputId": "2e909b9c-444b-4fdf-eab0-f2b0d9ba334d"
      },
      "execution_count": null,
      "outputs": [
        {
          "output_type": "stream",
          "name": "stdout",
          "text": [
            "안녕하세요!\n"
          ]
        }
      ]
    },
    {
      "cell_type": "code",
      "source": [
        "from langchain_core.prompts import ChatPromptTemplate\n",
        "from langchain_openai import ChatOpenAI\n",
        "from langchain_core.messages import HumanMessage, SystemMessage\n",
        "from langchain_core.output_parsers import StrOutputParser\n",
        "\n",
        "prompt_template = ChatPromptTemplate.from_messages(\n",
        "    [\n",
        "        (\"system\", \"너는 계산기야. 사용자의 입력을 {div}으로 나눈 값을 반환해줘.\"),\n",
        "        (\"user\", \"4\"),\n",
        "        (\"ai\", \"2\"),\n",
        "        (\"user\", \"{text}\"),\n",
        "    ]\n",
        ")\n",
        "llm = ChatOpenAI(model=\"gpt-4o-mini\")\n",
        "parser = StrOutputParser()\n",
        "\n",
        "# prompt, llm, parser 세 개의 Runnable 을 체이닝해서 체인으로 만든 상태\n",
        "chain = prompt_template | llm | parser\n",
        "\n",
        "# 입력({\"language\": \"Korean\", \"text\": \"Hi!\"})이 prompt 로,\n",
        "# prompt 결과물을 입력으로 써서 LLM 을 호출,\n",
        "# LLM 결과물을 입력으로 써서 parser 호출\n",
        "result = chain.invoke({\"div\": \"2\", \"text\": \"5\"})\n",
        "\n",
        "# result 에는 최종적으로 parser 의 결과물이 나온다.\n",
        "print(result)"
      ],
      "metadata": {
        "colab": {
          "base_uri": "https://localhost:8080/"
        },
        "id": "vDXg1RoVdPb2",
        "outputId": "1217ab2e-84fd-45da-8a10-a36b8ecbff84"
      },
      "execution_count": null,
      "outputs": [
        {
          "output_type": "stream",
          "name": "stdout",
          "text": [
            "2.5\n"
          ]
        }
      ]
    },
    {
      "cell_type": "code",
      "source": [
        "# export LANGCHAIN_TRACING_V2=true\n",
        "# export LANGCHAIN_API_KEY=<your-api-key>\n",
        "\n",
        "os.environ[\"LANGCHAIN_TRACING_V2\"] = \"true\"\n",
        "os.environ[\"LANGCHAIN_API_KEY\"] = userdata.get('LANGCHAIN_API_KEY')"
      ],
      "metadata": {
        "colab": {
          "base_uri": "https://localhost:8080/",
          "height": 347
        },
        "id": "HlfA1cmNeOCw",
        "outputId": "ffcf53c8-86d8-40d7-8490-91f9b2929f08"
      },
      "execution_count": null,
      "outputs": [
        {
          "output_type": "error",
          "ename": "TypeError",
          "evalue": "str expected, not bool",
          "traceback": [
            "\u001b[0;31m---------------------------------------------------------------------------\u001b[0m",
            "\u001b[0;31mTypeError\u001b[0m                                 Traceback (most recent call last)",
            "\u001b[0;32m<ipython-input-27-10d8b2576bc8>\u001b[0m in \u001b[0;36m<cell line: 4>\u001b[0;34m()\u001b[0m\n\u001b[1;32m      2\u001b[0m \u001b[0;31m# export LANGCHAIN_API_KEY=<your-api-key>\u001b[0m\u001b[0;34m\u001b[0m\u001b[0;34m\u001b[0m\u001b[0m\n\u001b[1;32m      3\u001b[0m \u001b[0;34m\u001b[0m\u001b[0m\n\u001b[0;32m----> 4\u001b[0;31m \u001b[0mos\u001b[0m\u001b[0;34m.\u001b[0m\u001b[0menviron\u001b[0m\u001b[0;34m[\u001b[0m\u001b[0;34m\"LANGCHAIN_TRACING_V2\"\u001b[0m\u001b[0;34m]\u001b[0m \u001b[0;34m=\u001b[0m \u001b[0;32mTrue\u001b[0m\u001b[0;34m\u001b[0m\u001b[0;34m\u001b[0m\u001b[0m\n\u001b[0m\u001b[1;32m      5\u001b[0m \u001b[0mos\u001b[0m\u001b[0;34m.\u001b[0m\u001b[0menviron\u001b[0m\u001b[0;34m[\u001b[0m\u001b[0;34m\"LANGCHAIN_API_KEY\"\u001b[0m\u001b[0;34m]\u001b[0m \u001b[0;34m=\u001b[0m \u001b[0muserdata\u001b[0m\u001b[0;34m.\u001b[0m\u001b[0mget\u001b[0m\u001b[0;34m(\u001b[0m\u001b[0;34m'LANGCHAIN_API_KEY'\u001b[0m\u001b[0;34m)\u001b[0m\u001b[0;34m\u001b[0m\u001b[0;34m\u001b[0m\u001b[0m\n",
            "\u001b[0;32m/usr/lib/python3.10/os.py\u001b[0m in \u001b[0;36m__setitem__\u001b[0;34m(self, key, value)\u001b[0m\n\u001b[1;32m    683\u001b[0m     \u001b[0;32mdef\u001b[0m \u001b[0m__setitem__\u001b[0m\u001b[0;34m(\u001b[0m\u001b[0mself\u001b[0m\u001b[0;34m,\u001b[0m \u001b[0mkey\u001b[0m\u001b[0;34m,\u001b[0m \u001b[0mvalue\u001b[0m\u001b[0;34m)\u001b[0m\u001b[0;34m:\u001b[0m\u001b[0;34m\u001b[0m\u001b[0;34m\u001b[0m\u001b[0m\n\u001b[1;32m    684\u001b[0m         \u001b[0mkey\u001b[0m \u001b[0;34m=\u001b[0m \u001b[0mself\u001b[0m\u001b[0;34m.\u001b[0m\u001b[0mencodekey\u001b[0m\u001b[0;34m(\u001b[0m\u001b[0mkey\u001b[0m\u001b[0;34m)\u001b[0m\u001b[0;34m\u001b[0m\u001b[0;34m\u001b[0m\u001b[0m\n\u001b[0;32m--> 685\u001b[0;31m         \u001b[0mvalue\u001b[0m \u001b[0;34m=\u001b[0m \u001b[0mself\u001b[0m\u001b[0;34m.\u001b[0m\u001b[0mencodevalue\u001b[0m\u001b[0;34m(\u001b[0m\u001b[0mvalue\u001b[0m\u001b[0;34m)\u001b[0m\u001b[0;34m\u001b[0m\u001b[0;34m\u001b[0m\u001b[0m\n\u001b[0m\u001b[1;32m    686\u001b[0m         \u001b[0mputenv\u001b[0m\u001b[0;34m(\u001b[0m\u001b[0mkey\u001b[0m\u001b[0;34m,\u001b[0m \u001b[0mvalue\u001b[0m\u001b[0;34m)\u001b[0m\u001b[0;34m\u001b[0m\u001b[0;34m\u001b[0m\u001b[0m\n\u001b[1;32m    687\u001b[0m         \u001b[0mself\u001b[0m\u001b[0;34m.\u001b[0m\u001b[0m_data\u001b[0m\u001b[0;34m[\u001b[0m\u001b[0mkey\u001b[0m\u001b[0;34m]\u001b[0m \u001b[0;34m=\u001b[0m \u001b[0mvalue\u001b[0m\u001b[0;34m\u001b[0m\u001b[0;34m\u001b[0m\u001b[0m\n",
            "\u001b[0;32m/usr/lib/python3.10/os.py\u001b[0m in \u001b[0;36mencode\u001b[0;34m(value)\u001b[0m\n\u001b[1;32m    755\u001b[0m         \u001b[0;32mdef\u001b[0m \u001b[0mencode\u001b[0m\u001b[0;34m(\u001b[0m\u001b[0mvalue\u001b[0m\u001b[0;34m)\u001b[0m\u001b[0;34m:\u001b[0m\u001b[0;34m\u001b[0m\u001b[0;34m\u001b[0m\u001b[0m\n\u001b[1;32m    756\u001b[0m             \u001b[0;32mif\u001b[0m \u001b[0;32mnot\u001b[0m \u001b[0misinstance\u001b[0m\u001b[0;34m(\u001b[0m\u001b[0mvalue\u001b[0m\u001b[0;34m,\u001b[0m \u001b[0mstr\u001b[0m\u001b[0;34m)\u001b[0m\u001b[0;34m:\u001b[0m\u001b[0;34m\u001b[0m\u001b[0;34m\u001b[0m\u001b[0m\n\u001b[0;32m--> 757\u001b[0;31m                 \u001b[0;32mraise\u001b[0m \u001b[0mTypeError\u001b[0m\u001b[0;34m(\u001b[0m\u001b[0;34m\"str expected, not %s\"\u001b[0m \u001b[0;34m%\u001b[0m \u001b[0mtype\u001b[0m\u001b[0;34m(\u001b[0m\u001b[0mvalue\u001b[0m\u001b[0;34m)\u001b[0m\u001b[0;34m.\u001b[0m\u001b[0m__name__\u001b[0m\u001b[0;34m)\u001b[0m\u001b[0;34m\u001b[0m\u001b[0;34m\u001b[0m\u001b[0m\n\u001b[0m\u001b[1;32m    758\u001b[0m             \u001b[0;32mreturn\u001b[0m \u001b[0mvalue\u001b[0m\u001b[0;34m.\u001b[0m\u001b[0mencode\u001b[0m\u001b[0;34m(\u001b[0m\u001b[0mencoding\u001b[0m\u001b[0;34m,\u001b[0m \u001b[0;34m'surrogateescape'\u001b[0m\u001b[0;34m)\u001b[0m\u001b[0;34m\u001b[0m\u001b[0;34m\u001b[0m\u001b[0m\n\u001b[1;32m    759\u001b[0m         \u001b[0;32mdef\u001b[0m \u001b[0mdecode\u001b[0m\u001b[0;34m(\u001b[0m\u001b[0mvalue\u001b[0m\u001b[0;34m)\u001b[0m\u001b[0;34m:\u001b[0m\u001b[0;34m\u001b[0m\u001b[0;34m\u001b[0m\u001b[0m\n",
            "\u001b[0;31mTypeError\u001b[0m: str expected, not bool"
          ]
        }
      ]
    },
    {
      "cell_type": "code",
      "source": [
        "from langchain_core.prompts import ChatPromptTemplate\n",
        "from langchain_openai import ChatOpenAI\n",
        "from langchain_core.messages import HumanMessage, SystemMessage\n",
        "from langchain_core.output_parsers import StrOutputParser\n",
        "\n",
        "prompt_template = ChatPromptTemplate.from_messages(\n",
        "    [\n",
        "        (\"system\", \"너는 계산기야. 사용자의 입력을 {div}으로 나눈 값을 반환해줘.\"),\n",
        "        (\"user\", \"4\"),\n",
        "        (\"ai\", \"2\"),\n",
        "        (\"user\", \"{text}\"),\n",
        "    ]\n",
        ")\n",
        "llm = ChatOpenAI(model=\"gpt-4o-mini\")\n",
        "parser = StrOutputParser()\n",
        "\n",
        "# prompt, llm, parser 세 개의 Runnable 을 체이닝해서 체인으로 만든 상태\n",
        "chain = prompt_template | llm | parser\n",
        "\n",
        "# 입력({\"language\": \"Korean\", \"text\": \"Hi!\"})이 prompt 로,\n",
        "# prompt 결과물을 입력으로 써서 LLM 을 호출,\n",
        "# LLM 결과물을 입력으로 써서 parser 호출\n",
        "result = chain.invoke({\"div\": \"2\", \"text\": \"5\"})\n",
        "\n",
        "# result 에는 최종적으로 parser 의 결과물이 나온다.\n",
        "print(result)"
      ],
      "metadata": {
        "colab": {
          "base_uri": "https://localhost:8080/"
        },
        "id": "_UW3ckw9gAPt",
        "outputId": "571d997d-768b-460d-b4bf-b182bbc7df8a"
      },
      "execution_count": null,
      "outputs": [
        {
          "output_type": "stream",
          "name": "stdout",
          "text": [
            "2.5\n"
          ]
        }
      ]
    },
    {
      "cell_type": "code",
      "source": [
        "from langchain_community.document_loaders import WebBaseLoader\n",
        "\n",
        "\n",
        "# 랭체인에는 이미 만들어져있는 여러가지 Loader 들이 존재한다.\n",
        "# (PDFLoader, GitLoader, GoogleDriveLoader, NotionDBLoader 등등)\n",
        "# 그 중에서 WebBaseLoader 는 웹에서 정보를 Load 해오는 Loader\n",
        "loader = WebBaseLoader(\n",
        "    web_paths=(\"https://www.hyundai.co.kr/story/CONT0000000000163479\",),\n",
        ")\n",
        "\n",
        "# loader 는 .load() 라는 일관된 인터페이스를 가지고 있다.\n",
        "docs = loader.load()\n",
        "\n",
        "print(docs)"
      ],
      "metadata": {
        "colab": {
          "base_uri": "https://localhost:8080/"
        },
        "id": "2dytFy_Cga86",
        "outputId": "17f12be0-27e7-470d-fddb-7265b1a3348d"
      },
      "execution_count": null,
      "outputs": [
        {
          "output_type": "stream",
          "name": "stderr",
          "text": [
            "WARNING:langchain_community.utils.user_agent:USER_AGENT environment variable not set, consider setting it to identify your requests.\n"
          ]
        },
        {
          "output_type": "stream",
          "name": "stdout",
          "text": [
            "[Document(metadata={'source': 'https://www.hyundai.co.kr/story/CONT0000000000163479', 'title': '기아 타이거즈, 역대급 기록으로 7년 만의 통합 우승을 완성하다', 'description': '올 시즌 기아 타이거즈의 활약은 말 그대로 ‘역대급’이었다. 7년 만의 통합 우승과 팀 통산 12번째 한국시리즈 우승을 거머쥐며 인상적인 기록을 써내려 갔다. 한국프로야구 최다 우승팀인 기아 타이거즈의 화려한 2024 시즌을 소개한다.', 'language': 'ko'}, page_content='\\n\\n\\n\\n기아 타이거즈, 역대급 기록으로 7년 만의 통합 우승을 완성하다\\n\\n\\n\\n\\n\\n\\n\\n\\n\\n\\n\\n\\n\\n\\n\\n\\n\\n\\n\\n\\n\\n\\n\\n\\n\\n\\n\\n\\n\\n\\n\\n\\n\\n\\n\\n\\n\\n\\n\\n\\n\\n\\n\\n\\n\\n\\n\\n\\n\\n\\n\\n\\n\\n\\n\\n\\n\\n\\n\\n\\n\\n닫기\\n\\n\\n\\n이전\\n\\n\\n다음\\n\\n\\n\\n\\n\\n\\n\\n\\n\\n\\n\\n\\n\\n\\n\\n2024.10.29\\n\\n                                            \\n                                                \\n                                                \\n                                                \\n                                                \\n                                                    KIA타이거즈\\n                                                \\n                                            \\n                                        \\n\\n\\n분량9분\\n                                            \\n\\n\\n기아 타이거즈, 역대급 기록으로 7년 만의 통합 우승을 완성하다\\n\\n\\n\\n\\n\\n공유하기\\n\\n\\n\\n\\n\\nTwitter\\n\\n\\n\\n\\nFacebook\\n\\n\\n\\n\\nKakaoTalk\\n\\n\\n\\n\\nLine\\n\\n\\n\\n\\nCopy link\\n\\n\\n\\n\\n\\n\\n인쇄\\n\\n\\n\\n\\n\\n\\n \\nKIA타이거즈\\n\\n\\n\\n\\n\\n\\n\\n\\n\\n\\n\\n\\n                                \\n                                \\n                                \\n                                \\n                                \\n                                올 시즌 기아 타이거즈의 활약은 말 그대로 ‘역대급’이었다. 7년 만의 통합 우승과 팀 통산 12번째 한국시리즈 우승을 거머쥐며 인상적인 기록을 써내려 갔다. 한국프로야구 최다 우승팀인 기아 타이거즈의 화려한 2024 시즌을 소개한다.\\n                            \\n\\n\\n\\n\\n\\n\\n\\n\\n메뉴 열기\\n\\n\\n\\n\\n                                                        팀 공격과 수비에서 여러 대기록을 작성한 기아 타이거즈\\n                                                    \\n\\n\\n\\n                                                        뜨거운 팬심으로 이룬 기아 타이거즈의 관중 동원 기록들\\n                                                    \\n\\n\\n\\n                                                        대투수 양현종, 4번 타자 최형우, 슈퍼스타 김도영이 남긴 진기록\\n                                                    \\n\\n\\n\\n                                                        타선과 불펜에서 만점 활약을 보여준 선수들과 인상적인 기록들\\n                                                    \\n\\n\\n\\n                                                        12번째 한국시리즈 우승! ‘한국시리즈 최다 우승 팀’이라는 진기록으로 마무리된 2024 시즌\\n                                                    \\n\\n\\n\\n\\n\\n\\n\\n\\n\\n\\n\\n\\n\\n\\n\\n\\n\\n\\n\\n\\n\\n\\n\\n\\n2024 시즌 KBO 리그는 그 어느 때보다 뜨거웠다. 시즌 초부터 순위 싸움이 치열했던 가운데, 시즌 마지막까지 포스트 진출이 가능한 5위 자리를 차지하기 위한 경쟁의 불씨가 활활 타올랐다. 각 팀 간의 뜨거운 열정 덕분에 자연스레 사람들의 관심도 야구장으로 집중됐다. 그 결과 사상 최초로 1,000만 관중 돌파라는 대기록이 수립되기도 했다.\\xa0\\n\\n\\n\\n\\n\\n\\n\\n\\n\\n\\n\\n\\n\\n\\n\\n\\n\\n\\n\\n올 시즌 이 같은 흥행의 중심에는 기아 타이거즈가 있었다. 기아 타이거즈는 시즌 내내 압도적인 경기력을 보여줬다. 홈구장인 광주-기아 챔피언스 필드에서는 물론, 원정 경기에서도 말 그대로 ‘신바람 나는 야구’를 했다. 그리고 마침내 2017 시즌 이후 7년 만에 정규 리그와 한국시리즈 통합 우승을 차지하며 ‘타이거즈 왕조’의 화려한 부활을 알렸다.아울러 기아 타이거즈는 다양한 신기록을 쏟아내며 팬들을 더욱 즐겁게 했다. 팀, 투수, 타자 등 야구팀이 보여줄 수 있는 모든 부문에서 인상적인 기록을 남겼다. 올 시즌 정규 리그 1위 달성을 넘어 한국시리즈 우승까지, 기아 타이거즈가 남긴 진기록들을 자세히 살펴봤다.\\n\\n\\n\\n\\n\\n\\n\\n\\n팀 공격과 수비에서 여러 대기록을 작성한 기아 타이거즈\\n\\n\\n\\n\\n\\n\\n\\n\\n\\n\\n                                                            올 시즌 기아 타이거즈 구성원 모두는 최고의 팀워크를 보여줬다\\n                                                        \\n\\n\\n\\n\\n\\n\\n\\n\\n\\n\\n올 시즌 기아 타이거즈는 그야말로 ‘원팀’이었다. 리그 최초의 1980년대생 사령탑 이범호 감독은 올해 기아 타이거즈의 신임 감독으로 부임했고, 기아 타이거즈의 코치진, 투수와 타자 등 팀의 모든 구성원이 하나로 뭉쳐 이범호 감독 부임 첫 해 만에 정규 시즌 우승을 달성했다. 이런 팀워크가 없었다면 기아 타이거즈의 정규 리그 1위 달성은 물론 한국시리즈 우승도 불가능했을 것이다. 기아 타이거즈는 시즌 내내 놀라운 공격력과 안정적인 수비력을 보여줬고, 이 같은 활약은 자연스럽게 여러 기록 달성으로 이어졌다.\\n\\n\\n\\n\\n\\n\\n\\n\\n\\n\\n\\n\\n\\n\\n\\n\\n\\n\\n\\n\\n\\n가장 먼저 살펴볼 기아 타이거즈의 공격 관련 기록은 안타다. 기아 타이거즈는 8월 17일 KBO 리그 역대 5번째에 해당하는 팀 ‘4만 9,000안타’라는 기록을 수립했다. 이와 함께 기아 타이거즈는 득점 부문에서도 신기록을 달성했다. 지난 4월 24일, 키움 히어로즈와의 고척 원정 경기에서 팀 ‘2만 5,000득점’을 기록한 것이다. 이 또한 기아 타이거즈 이전에는 단 2개의 팀만 갖고 있었던 놀라운 기록이다.\\xa0\\n\\n\\n\\n\\n\\n\\n\\n\\n\\n\\n\\n\\n                                                            팀 통산 4,600홈런을 기록한 박찬호 선수\\n                                                        \\n\\n\\n\\n\\n\\n\\n\\n\\n\\n\\n기아 타이거즈는 시즌 초부터 홈과 원정 경기를 가리지 않고 홈런을 쏘아 올렸다. 그리고 마침내 6월 6일 현충일 홈 관중들 앞에서 롯데 자이언츠를 상대로 팀 통산 ‘4,600홈런’이라는 대기록을 남겼다. 이 기록은 KBO 역대 2번째에 해당하는 기록이기도 하다. 기아 타이거즈는 여기서 그치지 않고 8월 24일 KBO 역대 2번째로 팀 통산 ‘7만 3,000루타’까지 달성했다.\\xa0기아 타이거즈의 기록 달성은 비단 공격에만 머물지 않았다. 수비의 핵심인 투수 부문에서 42년 KBO 리그 역사상 최초의 기록을 달성했다. 지난 9월 1일 삼성 라이온즈와의 대구 원정 경기에서 KBO 리그 최초의 팀 ‘3만 4,000탈삼진’을 작성한 것이다.\\n\\n\\n\\n\\n\\n\\n\\n\\n\\n\\n\\n\\n                                                            대기록을 달성한 양현종 선수와 김도영 선수가 기쁨을 나누고 있다\\n                                                        \\n\\n\\n\\n\\n\\n\\n\\n\\n\\n\\n7월 23일에는 기아 타이거즈 사상 최초의 대기록이 완성됐다. NC 다이노스를 상대로 ‘선발 투수 완투승 – 타자 사이클링 히트’라는 기록을 동시에 달성한 것이다. 대기록의 주인공은 해당 경기 선발 투수인 양현종과 리그 최강의 호타준족(타격 능력이 좋고 발이 빠른 야구선수) 타자 김도영이다. 이는 기아 타이거즈 최초의 기록인 동시에 역대 KBO 리그에서 단 두 팀만이 만들어낸 진기록이다.\\xa0\\n\\n\\n\\n\\n\\n\\n\\n\\n\\n\\n\\n\\n\\n\\n\\n\\n\\n\\n\\n\\n\\n\\n사실, 이날의 기록은 올 시즌 기아 타이거즈의 활약을 단적으로 보여준 것이라 할 수 있다. 기아 타이거즈의 2024 시즌은 그야말로 공격과 수비 모두가 완벽했다. 시즌 내내 강팀의 저력을 꾸준히 보여줬는데, 7월 23일 선발 투수 완투승과 타자 사이클링 히트라는 기록을 통해 그 사실이 객관적으로 증명된 것이다.\\n\\n\\n\\n\\n\\n\\n뜨거운 팬심으로 이룬 기아 타이거즈의 관중 동원 기록들\\n\\n\\n\\n\\n\\n\\n\\n\\n\\n\\n\\n\\n\\n\\n\\n\\n\\n\\n\\n기아 타이거즈의 압도적인 경기력은 자연스럽게 많은 관중들을 불러 모으는 원동력이 됐다. 그 결과 기아 타이거즈는 8월 28일 ‘59번째 경기 만에 홈 100만 관중 돌파’라는 기록을 세웠다. 이 기록이 놀라운 것은 종전에는 71경기 만에 달성했던 홈 100만 관중 기록을 무려 12경기나 앞당겼기 때문이다.\\n\\n\\n\\n\\n\\n\\n\\n\\n\\n\\n\\n\\n\\n\\n\\n\\n\\n\\n\\n\\n\\n이 외에도 기아 타이거즈는 9월 3일 홈경기에서 102만 6,235명의 누적 관중을 달성하며 ‘한 시즌 최다 관중 신기록’을 남겼다. 이런 기세를 바탕으로 기아 타이거즈는 9월 7일 ‘역대 시즌 최다 매진 신기록’의 영광까지 가져갔다. 종전에는 21회였던 매진 기록을 올 시즌 22회로 늘린 것이다.\\xa0이 기록을 넘어 기아 타이거즈는 시즌 종료 시점에 매진 30회를 기록했다.\\n\\n\\n\\n\\n\\n\\n\\n\\n\\n\\n\\n\\n\\n                                                        기아 타이거즈의 뛰어난 공수 능력 덕분에 팀 통산 2,800승이라는 진기록을 달성했다\\n                                                    \\n\\n\\n\\n\\n\\n\\n\\n완벽한 공격과 수비 그리고 팬들의 열띤 응원이 더해진 결과, 기아 타이거즈는 KBO 리그 역대 3번째로 ‘팀 통산 2,800승’이라는 기록까지 남길 수 있었다. 이 기록은 시즌 최종전인 9월 30일 홈에서 달성됐기에 그 어떤 기록보다 의미가 남달랐다. 이런 역대급 기록 행진은 당연히 기아 타이거즈의 성적으로 연결됐다. 그리고 모두가 아는 것처럼 기아 타이거즈는 87승 2무 55패, 0.613의 승률로 당당히 ‘2024 정규 시즌 1위’에 오를 수 있었다.\\n\\n\\n\\n\\n\\n\\n\\n\\n대투수 양현종, 4번 타자 최형우, 슈퍼스타 김도영이 남긴 진기록\\n\\n\\n\\n\\n\\n\\n\\n\\n\\n\\n\\n\\n\\n\\n\\n\\n\\n\\n\\n기아 타이거즈의 기록 행진은 개별 선수들로도 이어졌다. 기아 타이거즈의 명실상부한 에이스이자 리그 최고의 좌완 투수 양현종이 대표적이다. 대투수라는 별명을 가진 양현종은 기아 타이거즈 유니폼을 입고 여러 대기록을 써나가고 있으며, 그중 일부는 올 시즌에 결실을 맺었다.\\n\\n\\n\\n\\n\\n\\n\\n\\n\\n\\n\\n\\n\\n\\n\\n\\n\\n\\n\\n\\n\\n양현종의 올 시즌 대표적인 기록은 KBO 리그 ‘최초 400경기 선발 등판’, ‘역대 최다 탈삼진’, ‘최초 10시즌 연속 170이닝 달성’ 등이다. 투수 한 명이 평생 하나도 이루기 힘든 대기록을 양현종은 올 시즌 차례로 달성했다.\\n\\n\\n\\n\\n\\n\\n\\n\\n\\n\\n\\n\\n                                                            양현종 선수는 최고의 기량으로 대기록을 써 내려가는 중이다\\n                                                        \\n\\n\\n\\n\\n\\n\\n\\n\\n\\n\\n또한 양현종은 8월 21일 홈경기에서 2,049번째 삼진을 잡으며 KBO 리그 역대 최다 탈삼진이라는 대기록도 완성했다. 이 기록이 더욱 놀라운 것은 양현종이 아직 현역이라는 사실이다. 실제로 양현종은 대기록 경신 이후 꾸준히 탈삼진 개수를 추가해 시즌 종료 후 ‘2,076탈삼진’이라는 엄청난 기록을 남겼다.\\n\\n\\n\\n\\n\\n\\n\\n\\n\\n\\n\\n\\n\\n\\n\\n\\n\\n\\n\\n\\n\\n최형우는 2017 시즌부터 기아 타이거즈와 함께하며 타이거즈에 없어서는 안 될 4번 타자가 됐다. 그 사이 최형우는 여러 기록을 써오고 있는데, 올 시즌도 변함없이 기아 타이거즈 유니폼을 입고 다수의 기록을 만들어 갔다.\\n\\n\\n\\n\\n\\n\\n\\n\\n\\n\\n\\n\\n\\n                                                        아시아 최초로 통산 500개의 2루타를 달성한 최형우 선수\\n                                                    \\n\\n\\n\\n\\n\\n\\n\\n그중 눈여겨볼 기록은 루타와 타점 부문이다. 최형우는 지난 5월 10일 홈경기에서 아시아 최초로 ‘통산 500개의 2루타 달성’이라는 기록을 세웠다. 아시아 최초라는 기록에서 알 수 있듯, 이는 일본 프로야구에서도 찾아볼 수 없는 전대미문의 기록이다.\\xa0\\n\\n\\n\\n\\n\\n\\n\\n\\n\\n\\n\\n\\n\\n\\n\\n\\n\\n\\n\\n\\n\\n\\n\\n최형우는 KBO 리그 ‘역대 최다 루타’ 기록도 갈아치웠다. 지난 6월 11일 SSG 랜더스와의 문학 원정 경기에서 4,077번째 루타를 달성하며 최다 기록 타이를 이룬 뒤, 이튿날 경기에서 바로 안타를 추가해 ‘4,078루타’라는 최다 기록을 작성했다. 최형우의 최다 루타 신기록은 여기서 멈추지 않았다. 6월 19일 홈경기에서 KBO 리그 역대 최초로 ‘4,100루타’를 달성한 것을 비롯해 시즌 종료 시점에는 무려 ‘4,178루타’를 달성하며 이 부문에서 독보적인 기록을 세웠다.\\n\\n\\n\\n\\n\\n\\n\\n\\n\\n\\n\\n\\n                                                            최형우 선수는 기아 타이거즈 4번 타자로 맹활약하고 있다\\n                                                        \\n\\n\\n\\n\\n\\n\\n\\n\\n\\n\\n올 시즌 최형우가 기록한 또 다른 대기록은 바로 타점이다. 그는 6월 14일 KT 위즈와의 원정 경기에서 ‘KBO 리그 최초 1,600타점’을 기록했다. 매 시즌 100타점 안팎의 꾸준한 타점 생산 능력이 없다면 불가능한 기록인데, 최형우는 올 시즌이 끝난 뒤 1,651타점을 기록해 다음 시즌 1,700타점 돌파도 가능할 것으로 예상된다.\\n\\n\\n\\n\\n\\n\\n\\n\\n\\n\\n\\n\\n\\n\\n\\n\\n\\n\\n\\n\\n\\n올 시즌 기아 타이거즈에서 가장 주목받은 선수는 누가 뭐라 해도 김도영이었다. 올 시즌 유력한 MVP 후보이기도 한 김도영은 여러 신기록을 수차례 달성했다. 그중에는 21살의 프로 3년차 선수에게서 보기 어려운 대기록도 포함돼 눈길을 끌었다.\\n\\n\\n\\n\\n\\n\\n\\n\\n\\n\\n\\n\\n                                                            김도영 선수는 30-30 클럽을 달성한 최연소 선수가 됐다\\n                                                        \\n\\n\\n\\n\\n\\n\\n\\n\\n\\n\\n김도영의 올 시즌 기록 중 단연 눈에 띄는 것은 호타준족의 상징인 ‘30-30 클럽’이다. 한 시즌 30개의 홈런과 30개의 도루를 동시에 달성해야 하는 이 기록은 김도영 이전에 6명의 선수밖에 달성하지 못했다. 특히, 김도영은 30홈런-30도루 대기록을 최연소인 20세 10개월 13일 만에 달성해 모든 야구팬의 이목을 집중시켰다.\\xa0\\n\\n\\n\\n\\n\\n\\n\\n\\n\\n\\n\\n\\n                                                            경기마다 김도영 선수의 활약이 빛났다\\n                                                        \\n\\n\\n\\n\\n\\n\\n\\n\\n\\n\\n사실, 김도영의 대활약과 신기록 달성은 시즌 초부터 시작됐다. 시즌이 개막된 지 한 달여밖에 되지 않은 4월 25일, 키움 히어로즈와의 고척 원정 경기에서 ‘KBO 리그 최초의 월간 10홈런-10도루’를 달성한 것이다. 40년이 넘는 KBO 리그 역사에서 그 누구도 달성하지 못한 기록이었기에 김도영은 순식간에 KBO 리그의 스타 반열에 올라설 수 있었다.\\n\\n\\n\\n\\n\\n\\n\\n\\n\\n\\n\\n\\n\\n\\n\\n\\n\\n\\n\\n\\n\\n김도영의 기록 행진은 여기서 멈추지 않았다. 7월 23일 홈경기에서 1루타, 2루타, 3루타, 홈런을 차례대로 기록하는 ‘내추럴 사이클링 히트’를 KBO 리그 역대 2번째로 달성했다. 그리고 9월 9일 홈경기에서 타이거즈 최초이자, KBO 리그 역대 3번째로 ‘30홈런-30도루-100득점-100타점’이라는 대기록까지 완성했다. 그의 이런 활약이 없었다면 기아 타이거즈의 1위 달성이 어려웠을 수도 있다는 평가가 있을 정도로 올 시즌 김도영의 존재감은 대단했다.\\xa0\\n\\n\\n\\n\\n\\n\\n\\n\\n타선과 불펜에서 만점 활약을 보여준 선수들과 인상적인 기록들\\n\\n\\n\\n\\n\\n\\n\\n\\n\\n\\n\\n\\n\\n\\n\\n\\n\\n\\n\\n한편, 올 시즌 기아 타이거즈가 엄청난 성적을 남길 수 있었던 데에는 타선과 불펜에서 맹활약을 펼친 타자와 투수들의 몫도 컸다. 이들은 때로는 주연으로, 때로는 조연을 자처하며 기아 타이거즈가 원팀을 이루는 데 큰 역할을 했다.\\n\\n\\n\\n\\n\\n\\n\\n\\n\\n\\n\\n\\n\\n                                                        올 시즌 꾸준히 뛰어난 기량을 발휘했던 박찬호 선수\\n                                                    \\n\\n\\n\\n\\n\\n\\n\\n타선에서는 올 시즌 1번 타순에서 포문을 열었던 박찬호, 상위 타선으로의 연결 고리 역할을 했던 소크라테스의 활약을 빼놓을 수 없었다. 이런 활약 속에서 두 선수 모두 각자 의미 있는 기록을 남기기까지 했다. 박찬호가 이번 시즌 남긴 대표적인 기록으로는 ‘6시즌 연속 100안타 달성’이다. KBO 역사상 박찬호 포함 단 68명 만이 세운 기록으로, 그의 꾸준한 활약이 없다면 불가능한 기록 달성이다.\\n\\n\\n\\n\\n\\n\\n\\n\\n\\n\\n\\n\\n\\n                                                        소크라테스 선수는 타선에서 해결사 역할을 톡톡히 했다\\n                                                    \\n\\n\\n\\n\\n\\n\\n\\n기아 타이거즈의 유일한 외국인 타자 소크라테스 브리토(Socrates Orel Brito)가 남긴 기록도 눈에 띈다. 올 시즌 정규 리그에서 171개의 안타, 26개의 홈런, 97개의 타점 등으로 맹활약을 펼친 소크라테스는 시즌 중반 의미 있는 기록을 만들어냈다. 기아 타이거즈의 유니폼을 입고 뛴 지난 2022년부터 올해까지 ‘3시즌 연속 150안타’를 기록한 것이다.\\n\\n\\n\\n\\n\\n\\n\\n\\n\\n\\n\\n\\n\\n\\n\\n\\n\\n\\n\\n\\n\\n5번과 6번 타순에서 많은 타점을 수확한 나성범과 김선빈이 만들어낸 기록도 눈여겨볼 만하다. 어느덧 프로 12년 차 베테랑 타자가 된 나성범은 올 시즌 여러 개의 개인 기록을 갈아치웠다. 나성범이 올 시즌 남긴 기록을 살펴보면 ‘1,300경기 출장’, ‘600개 4사구 달성’, ‘5시즌 연속 10홈런’, ‘1,000득점-1,000타점’, ‘2,900루타’, ‘1,700안타’ 등이 있다.\\n\\n\\n\\n\\n\\n\\n\\n\\n\\n\\n\\n\\n                                                            올해로 16시즌째 기아 타이거즈의 유니폼을 입고서 활약하는 김선빈 선수\\n                                                        \\n\\n\\n\\n\\n\\n\\n\\n\\n\\n\\n기아 타이거즈에서만 16시즌째 대활약을 이어가고 있는 프렌차이즈 스타 김선빈의 기록도 인상적이다. 통산 ‘5,000타수’, ‘700득점’, ‘200개 2루타’, ‘600타점’, ‘1,600경기 출장’, ‘1,600안타’, ‘2,000루타’, ‘8시즌 연속 100안타’ 등이 올 시즌 김선빈이 만든 기록이다. 기록 하나하나가 놀라운데, 이 모든 기록이 오직 기아 타이거즈 유니폼을 입고 달성했다는 점에서 그 의미가 남다르다고 할 수 있다.\\n\\n\\n\\n\\n\\n\\n\\n\\n\\n\\n\\n\\n\\n                                                        서건창, 최원준 선수 등 기아 타이거즈의 많은 선수들이 우승에 힘을 보탰다\\n                                                    \\n\\n\\n\\n\\n\\n\\n\\n이 밖에도 다른 타자들의 활약과 기록 역시 돋보였다. 중견수로서 외야 수비를 진두지휘한 최원준은 공격에서도 인상적인 활약을 펼치며 ‘4시즌 연속 10도루’와 ‘통산 100도루 달성’이라는 기록을 남겼으며, 부상자들이 나올 때마다 알토란 같은 활약을 펼친 서건창은 베테랑 선수로서 만들 수 있는 기록을 다수 남겼다. 그중에는 ‘1,400안타’와 ‘600개 4사구’도 포함돼 있다.\\n\\n\\n\\n\\n\\n\\n\\n\\n\\n\\n\\n\\n\\n\\n\\n\\n\\n\\n\\n\\n\\n한편 올 시즌 기아 타이거즈의 선발진은 불안했다. 에이스 양현종을 제외하면 4명의 선발 투수가 크고 작은 부상으로 인해 선발 로테이션을 제대로 소화하지 못했다. 이런 악조건에서 기아 타이거즈가 정규 시즌을 넘어 한국시리즈까지 우승을 차지할 수 있었던 것은 불펜을 든든하게 지킨 마무리 투수 정해영, 셋업맨(마무리 투수에 앞서 등판하여 리드를 유지하는 역할을 하는 투수) 전상현 같은 투수들의 활약이 컸다.\\n\\n\\n\\n\\n\\n\\n\\n\\n\\n\\n\\n\\n                                                            기아 타이거즈 마무리 투수인 정해영 선수는 젊은 나이에도 여러 대기록을 남겼다\\n                                                        \\n\\n\\n\\n\\n\\n\\n\\n\\n\\n\\n이처럼 불펜 투수들이 각자 맡은 자리에서 초특급 활약을 펼치면서 자연스럽게 개인 기록 달성도 이뤄졌다. 마무리 투수 정해영은 ‘최연소 100세이브’ 달성과 KBO 리그 역대 17번째 ‘120세이브’, ‘4시즌 연속 50경기 출장’, ‘4시즌 연속 20세이브’와 같은 여러 기록을 만 23세의 나이로 갈아치웠다.\\n\\n\\n\\n\\n\\n\\n\\n\\n\\n\\n\\n\\n\\n\\n\\n\\n\\n\\n\\n\\n\\n\\n\\n불펜의 중심축을 이루고 있는 전상현도 올 시즌 개인과 팀 모두에게 의미 있는 기록을 달성했다. 그중 하나가 바로 ‘기아 타이거즈 팀 최다 68홀드’ 달성이다. 해당 기록을 시즌초 일찌감치 경신한 전상현은 시즌이 끝난 시점에서 84개의 홀드를 기록해 기아 타이거즈 선수 중 여전히 1위를 유지 중이다. 이 외에도 전상현은 ‘3시즌 연속 10홀드’, 역대 9번째로 ‘한 시즌 10승-10홀드’와 같은 기록도 남겼다.\\n\\n\\n\\n\\n\\n\\n\\n\\n12번째 한국시리즈 우승! ‘한국시리즈 최다 우승 팀’이라는 진기록으로 마무리된 2024 시즌\\n\\n\\n\\n\\n\\n\\n\\n\\n\\n\\n\\n                                                        한국시리즈 우승이 확정된 순간 기아 타이거즈 선수들은 서로를 얼싸안으며 우승의 기쁨을 나누었다\\n                                                    \\n\\n\\n\\n\\n\\n\\n\\n기아 타이거즈의 2024 시즌은 가히 ‘역대급’이라고 하기에 손색없었다. 놀라운 기록을 써 내려간 선수들의 힘이 모여 강력한 팀워크를 발휘했고, 그 결과 기아 타이거즈는 압도적인 격차로 정규 리그 우승을 차지할 수 있었다. 기아 타이거즈의 상승세는 한국시리즈에서도 계속 됐다. 사상 초유의 우천으로 인한 서스펜디드 게임, 경기 취소와 같은 변수가 있었지만, 통합 우승을 향한 기아 타이거즈의 열정을 막을 수 없었다. 무엇보다 한국시리즈에서는 시즌 내내 꾸준한 활약을 펼친 선수들 외에도 뒤에서 묵묵히 조연을 자처했던 선수들이 주연으로 나서며 기아 타이거즈 전체가 완벽한 모습을 보여줬다.\\n\\n\\n\\n\\n\\n\\n\\n\\n\\n\\n\\n\\n\\n\\n\\n\\n\\n\\n\\n\\n\\n이처럼 팀 하나가 똘똘 뭉쳐 단결된 모습을 보여준 결과, 기아 타이거즈는 시리즈 전적 4승 1패라는 압도적인 성적과 함께 ‘7년 만의 통합 우승’이자, ‘12번째 한국시리즈 우승’이라는 금자탑을 쌓았다. 동시에 기아 타이거즈는 ‘한국시리즈 최다 우승 팀’이라는 대기록까지 달성하며 2024 시즌을 화려하게 마무리 지었다. 시즌 초부터 기아 타이거즈의 여러 선수들이 만들어 나간 개인 기록이 한국시리즈 최다 우승이라는 엄청난 팀 기록과 함께 마무리된 순간이었다.\\xa0물론 기아 타이거즈의 활약은 다음 시즌에도 계속될 전망이다. 올 시즌 맹활약을 펼친 선수들을 비롯해 최초의 1980년대생 감독으로 부임 첫 해에 통합 우승이라는 대기록을 남긴 이범호 감독과 코치진이 변함없이 함께 할 예정이기 때문이다. 올 시즌과 같은 기아 타이거즈의 기량이 꾸준히 이어진다면 2시즌 연속 통합 우승, 13번의 한국시리즈 우승이라는 대기록을 다음 시즌에도 볼 수 있을 것이다.\\n\\n\\n\\n\\n\\n\\n\\n\\n\\n\\n\\n공유하기\\n\\n\\n\\n\\nTwitter\\n\\n\\n\\n\\nFacebook\\n\\n\\n\\n\\nKakaoTalk\\n\\n\\n\\n\\nLine\\n\\n\\n\\n\\nCopy link\\n\\n\\n\\n\\n\\n인쇄\\n\\n\\n\\n#KIA타이거즈\\n\\n\\n\\n\\n\\n\\n\\n\\nHMG 저널 운영팀\\n\\ngroup@hyundai.com\\n\\n\\n\\n                                HMG 저널에서 제공되는 정보는 크리에이티브 커먼즈(CCL) 2.0 정책에 따라 콘텐츠의 복제와 배포, 전송, 전시 및 공연 등에 활용할 수 있으며, 저작권에 의해 보호됩니다.\\n단, 정보 사용자는 HMG 저널에서 제공하는 정보를 개인 목적으로만 사용할 수 있습니다.\\n                            \\n\\n\\n                                    \\n                                        \\n                                            HMG 운영정책 알아보기\\n                                        \\n                                        \\n                                    \\n                                \\n\\n\\n\\n\\n\\n\\n\\n\\n\\n\\n추천 콘텐츠\\n\\n\\n\\n\\n\\n\\n\\n\\n                                                            유소년 대상 활동에서 찾은 스포츠의 미래 – 현대자동차그룹 스포츠단\\n                                                        \\n\\n2023.11.24\\n7분 읽기\\n\\n\\n\\n\\n\\n\\n추천 콘텐츠 닫기\\n\\n\\n\\n\\n\\n\\n\\n\\n\\n\\n\\n\\nTOP\\n\\n\\n\\n\\n\\n\\n\\n\\n\\n\\n\\n\\n\\n')]\n"
          ]
        }
      ]
    },
    {
      "cell_type": "code",
      "source": [
        "from langchain_text_splitters import RecursiveCharacterTextSplitter\n",
        "from pprint import pprint\n",
        "\n",
        "# 다양한 TextSplitter 중 RecursiveCharacterTextSplitter 는\n",
        "# \"\\n\\n\" > \"\\n\" > \" \" > \"\" 순서로 텍스트 분할을 시도하는 Splitter\n",
        "# 아래는 1,000 글자 단위로 split 하되, 200자 까지 겹치는걸 허용한다는 옵션\n",
        "text_splitter = RecursiveCharacterTextSplitter(chunk_size=1000, chunk_overlap=200)\n",
        "splits = text_splitter.split_documents(docs)\n",
        "\n",
        "print()\n",
        "pprint(splits)\n",
        "\n",
        "\n"
      ],
      "metadata": {
        "colab": {
          "base_uri": "https://localhost:8080/"
        },
        "id": "p2o2dbghh75u",
        "outputId": "fda96b6a-83b6-4a03-fe4c-ea1d84917da7"
      },
      "execution_count": null,
      "outputs": [
        {
          "output_type": "stream",
          "name": "stdout",
          "text": [
            "\n",
            "[Document(metadata={'source': 'https://www.hyundai.co.kr/story/CONT0000000000163479', 'title': '기아 타이거즈, 역대급 기록으로 7년 만의 통합 우승을 완성하다', 'description': '올 시즌 기아 타이거즈의 활약은 말 그대로 ‘역대급’이었다. 7년 만의 통합 우승과 팀 통산 12번째 한국시리즈 우승을 거머쥐며 인상적인 기록을 써내려 갔다. 한국프로야구 최다 우승팀인 기아 타이거즈의 화려한 2024 시즌을 소개한다.', 'language': 'ko'}, page_content='기아 타이거즈, 역대급 기록으로 7년 만의 통합 우승을 완성하다\\n\\n\\n\\n\\n\\n\\n\\n\\n\\n\\n\\n\\n\\n\\n\\n\\n\\n\\n\\n\\n\\n\\n\\n\\n\\n\\n\\n\\n\\n\\n\\n\\n\\n\\n\\n\\n\\n\\n\\n\\n\\n\\n\\n\\n\\n\\n\\n\\n\\n\\n\\n\\n\\n\\n\\n\\n\\n\\n\\n\\n\\n닫기\\n\\n\\n\\n이전\\n\\n\\n다음\\n\\n\\n\\n\\n\\n\\n\\n\\n\\n\\n\\n\\n\\n\\n\\n2024.10.29\\n\\n                                            \\n                                                \\n                                                \\n                                                \\n                                                \\n                                                    KIA타이거즈\\n                                                \\n                                            \\n                                        \\n\\n\\n분량9분\\n                                            \\n\\n\\n기아 타이거즈, 역대급 기록으로 7년 만의 통합 우승을 완성하다\\n\\n\\n\\n\\n\\n공유하기\\n\\n\\n\\n\\n\\nTwitter\\n\\n\\n\\n\\nFacebook\\n\\n\\n\\n\\nKakaoTalk\\n\\n\\n\\n\\nLine\\n\\n\\n\\n\\nCopy link\\n\\n\\n\\n\\n\\n\\n인쇄\\n\\n\\n\\n\\n\\n\\n \\nKIA타이거즈'),\n",
            " Document(metadata={'source': 'https://www.hyundai.co.kr/story/CONT0000000000163479', 'title': '기아 타이거즈, 역대급 기록으로 7년 만의 통합 우승을 완성하다', 'description': '올 시즌 기아 타이거즈의 활약은 말 그대로 ‘역대급’이었다. 7년 만의 통합 우승과 팀 통산 12번째 한국시리즈 우승을 거머쥐며 인상적인 기록을 써내려 갔다. 한국프로야구 최다 우승팀인 기아 타이거즈의 화려한 2024 시즌을 소개한다.', 'language': 'ko'}, page_content='분량9분\\n                                            \\n\\n\\n기아 타이거즈, 역대급 기록으로 7년 만의 통합 우승을 완성하다\\n\\n\\n\\n\\n\\n공유하기\\n\\n\\n\\n\\n\\nTwitter\\n\\n\\n\\n\\nFacebook\\n\\n\\n\\n\\nKakaoTalk\\n\\n\\n\\n\\nLine\\n\\n\\n\\n\\nCopy link\\n\\n\\n\\n\\n\\n\\n인쇄\\n\\n\\n\\n\\n\\n\\n \\nKIA타이거즈\\n\\n\\n\\n\\n\\n\\n\\n\\n\\n\\n\\n\\n                                \\n                                \\n                                \\n                                \\n                                \\n                                올 시즌 기아 타이거즈의 활약은 말 그대로 ‘역대급’이었다. 7년 만의 통합 우승과 팀 통산 12번째 한국시리즈 우승을 거머쥐며 인상적인 기록을 써내려 갔다. 한국프로야구 최다 우승팀인 기아 타이거즈의 화려한 2024 시즌을 소개한다.\\n                            \\n\\n\\n\\n\\n\\n\\n\\n\\n메뉴 열기\\n\\n\\n\\n\\n                                                        팀 공격과 수비에서 여러 대기록을 작성한 기아 타이거즈\\n                                                    \\n\\n\\n\\n                                                        뜨거운 팬심으로 이룬 기아 타이거즈의 관중 동원 기록들'),\n",
            " Document(metadata={'source': 'https://www.hyundai.co.kr/story/CONT0000000000163479', 'title': '기아 타이거즈, 역대급 기록으로 7년 만의 통합 우승을 완성하다', 'description': '올 시즌 기아 타이거즈의 활약은 말 그대로 ‘역대급’이었다. 7년 만의 통합 우승과 팀 통산 12번째 한국시리즈 우승을 거머쥐며 인상적인 기록을 써내려 갔다. 한국프로야구 최다 우승팀인 기아 타이거즈의 화려한 2024 시즌을 소개한다.', 'language': 'ko'}, page_content='뜨거운 팬심으로 이룬 기아 타이거즈의 관중 동원 기록들\\n                                                    \\n\\n\\n\\n                                                        대투수 양현종, 4번 타자 최형우, 슈퍼스타 김도영이 남긴 진기록\\n                                                    \\n\\n\\n\\n                                                        타선과 불펜에서 만점 활약을 보여준 선수들과 인상적인 기록들\\n                                                    \\n\\n\\n\\n                                                        12번째 한국시리즈 우승! ‘한국시리즈 최다 우승 팀’이라는 진기록으로 마무리된 2024 시즌\\n                                                    \\n\\n\\n\\n\\n\\n\\n\\n\\n\\n\\n\\n\\n\\n\\n\\n\\n\\n\\n\\n\\n\\n\\n\\n\\n2024 시즌 KBO 리그는 그 어느 때보다 뜨거웠다. 시즌 초부터 순위 싸움이 치열했던 가운데, 시즌 마지막까지 포스트 진출이 가능한 5위 자리를 차지하기 위한 경쟁의 불씨가 활활 타올랐다. 각 팀 간의 뜨거운 열정 덕분에 자연스레 사람들의 관심도 야구장으로 집중됐다. 그 결과 사상 최초로 1,000만 관중 돌파라는 대기록이 수립되기도 했다.'),\n",
            " Document(metadata={'source': 'https://www.hyundai.co.kr/story/CONT0000000000163479', 'title': '기아 타이거즈, 역대급 기록으로 7년 만의 통합 우승을 완성하다', 'description': '올 시즌 기아 타이거즈의 활약은 말 그대로 ‘역대급’이었다. 7년 만의 통합 우승과 팀 통산 12번째 한국시리즈 우승을 거머쥐며 인상적인 기록을 써내려 갔다. 한국프로야구 최다 우승팀인 기아 타이거즈의 화려한 2024 시즌을 소개한다.', 'language': 'ko'}, page_content='올 시즌 이 같은 흥행의 중심에는 기아 타이거즈가 있었다. 기아 타이거즈는 시즌 내내 압도적인 경기력을 보여줬다. 홈구장인 광주-기아 챔피언스 필드에서는 물론, 원정 경기에서도 말 그대로 ‘신바람 나는 야구’를 했다. 그리고 마침내 2017 시즌 이후 7년 만에 정규 리그와 한국시리즈 통합 우승을 차지하며 ‘타이거즈 왕조’의 화려한 부활을 알렸다.아울러 기아 타이거즈는 다양한 신기록을 쏟아내며 팬들을 더욱 즐겁게 했다. 팀, 투수, 타자 등 야구팀이 보여줄 수 있는 모든 부문에서 인상적인 기록을 남겼다. 올 시즌 정규 리그 1위 달성을 넘어 한국시리즈 우승까지, 기아 타이거즈가 남긴 진기록들을 자세히 살펴봤다.\\n\\n\\n\\n\\n\\n\\n\\n\\n팀 공격과 수비에서 여러 대기록을 작성한 기아 타이거즈\\n\\n\\n\\n\\n\\n\\n\\n\\n\\n\\n                                                            올 시즌 기아 타이거즈 구성원 모두는 최고의 팀워크를 보여줬다\\n                                                        \\n\\n\\n\\n\\n\\n\\n\\n\\n\\n\\n올 시즌 기아 타이거즈는 그야말로 ‘원팀’이었다. 리그 최초의 1980년대생 사령탑 이범호 감독은 올해 기아 타이거즈의 신임 감독으로 부임했고, 기아 타이거즈의 코치진, 투수와 타자 등 팀의 모든 구성원이 하나로 뭉쳐 이범호 감독 부임 첫 해 만에 정규 시즌 우승을 달성했다. 이런 팀워크가 없었다면 기아 타이거즈의 정규 리그 1위 달성은 물론 한국시리즈 우승도 불가능했을 것이다. 기아 타이거즈는 시즌 내내 놀라운 공격력과 안정적인 수비력을 보여줬고, 이 같은 활약은 자연스럽게 여러 기록 달성으로 이어졌다.'),\n",
            " Document(metadata={'source': 'https://www.hyundai.co.kr/story/CONT0000000000163479', 'title': '기아 타이거즈, 역대급 기록으로 7년 만의 통합 우승을 완성하다', 'description': '올 시즌 기아 타이거즈의 활약은 말 그대로 ‘역대급’이었다. 7년 만의 통합 우승과 팀 통산 12번째 한국시리즈 우승을 거머쥐며 인상적인 기록을 써내려 갔다. 한국프로야구 최다 우승팀인 기아 타이거즈의 화려한 2024 시즌을 소개한다.', 'language': 'ko'}, page_content='가장 먼저 살펴볼 기아 타이거즈의 공격 관련 기록은 안타다. 기아 타이거즈는 8월 17일 KBO 리그 역대 5번째에 해당하는 팀 ‘4만 9,000안타’라는 기록을 수립했다. 이와 함께 기아 타이거즈는 득점 부문에서도 신기록을 달성했다. 지난 4월 24일, 키움 히어로즈와의 고척 원정 경기에서 팀 ‘2만 5,000득점’을 기록한 것이다. 이 또한 기아 타이거즈 이전에는 단 2개의 팀만 갖고 있었던 놀라운 기록이다.\\xa0\\n\\n\\n\\n\\n\\n\\n\\n\\n\\n\\n\\n\\n                                                            팀 통산 4,600홈런을 기록한 박찬호 선수\\n                                                        \\n\\n\\n\\n\\n\\n\\n\\n\\n\\n\\n기아 타이거즈는 시즌 초부터 홈과 원정 경기를 가리지 않고 홈런을 쏘아 올렸다. 그리고 마침내 6월 6일 현충일 홈 관중들 앞에서 롯데 자이언츠를 상대로 팀 통산 ‘4,600홈런’이라는 대기록을 남겼다. 이 기록은 KBO 역대 2번째에 해당하는 기록이기도 하다. 기아 타이거즈는 여기서 그치지 않고 8월 24일 KBO 역대 2번째로 팀 통산 ‘7만 3,000루타’까지 달성했다.\\xa0기아 타이거즈의 기록 달성은 비단 공격에만 머물지 않았다. 수비의 핵심인 투수 부문에서 42년 KBO 리그 역사상 최초의 기록을 달성했다. 지난 9월 1일 삼성 라이온즈와의 대구 원정 경기에서 KBO 리그 최초의 팀 ‘3만 4,000탈삼진’을 작성한 것이다.\\n\\n\\n\\n\\n\\n\\n\\n\\n\\n\\n\\n\\n                                                            대기록을 달성한 양현종 선수와 김도영 선수가 기쁨을 나누고 있다'),\n",
            " Document(metadata={'source': 'https://www.hyundai.co.kr/story/CONT0000000000163479', 'title': '기아 타이거즈, 역대급 기록으로 7년 만의 통합 우승을 완성하다', 'description': '올 시즌 기아 타이거즈의 활약은 말 그대로 ‘역대급’이었다. 7년 만의 통합 우승과 팀 통산 12번째 한국시리즈 우승을 거머쥐며 인상적인 기록을 써내려 갔다. 한국프로야구 최다 우승팀인 기아 타이거즈의 화려한 2024 시즌을 소개한다.', 'language': 'ko'}, page_content='대기록을 달성한 양현종 선수와 김도영 선수가 기쁨을 나누고 있다\\n                                                        \\n\\n\\n\\n\\n\\n\\n\\n\\n\\n\\n7월 23일에는 기아 타이거즈 사상 최초의 대기록이 완성됐다. NC 다이노스를 상대로 ‘선발 투수 완투승 – 타자 사이클링 히트’라는 기록을 동시에 달성한 것이다. 대기록의 주인공은 해당 경기 선발 투수인 양현종과 리그 최강의 호타준족(타격 능력이 좋고 발이 빠른 야구선수) 타자 김도영이다. 이는 기아 타이거즈 최초의 기록인 동시에 역대 KBO 리그에서 단 두 팀만이 만들어낸 진기록이다.\\xa0\\n\\n\\n\\n\\n\\n\\n\\n\\n\\n\\n\\n\\n\\n\\n\\n\\n\\n\\n\\n\\n\\n\\n사실, 이날의 기록은 올 시즌 기아 타이거즈의 활약을 단적으로 보여준 것이라 할 수 있다. 기아 타이거즈의 2024 시즌은 그야말로 공격과 수비 모두가 완벽했다. 시즌 내내 강팀의 저력을 꾸준히 보여줬는데, 7월 23일 선발 투수 완투승과 타자 사이클링 히트라는 기록을 통해 그 사실이 객관적으로 증명된 것이다.\\n\\n\\n\\n\\n\\n\\n뜨거운 팬심으로 이룬 기아 타이거즈의 관중 동원 기록들\\n\\n\\n\\n\\n\\n\\n\\n\\n\\n\\n\\n\\n\\n\\n\\n\\n\\n\\n\\n기아 타이거즈의 압도적인 경기력은 자연스럽게 많은 관중들을 불러 모으는 원동력이 됐다. 그 결과 기아 타이거즈는 8월 28일 ‘59번째 경기 만에 홈 100만 관중 돌파’라는 기록을 세웠다. 이 기록이 놀라운 것은 종전에는 71경기 만에 달성했던 홈 100만 관중 기록을 무려 12경기나 앞당겼기 때문이다.'),\n",
            " Document(metadata={'source': 'https://www.hyundai.co.kr/story/CONT0000000000163479', 'title': '기아 타이거즈, 역대급 기록으로 7년 만의 통합 우승을 완성하다', 'description': '올 시즌 기아 타이거즈의 활약은 말 그대로 ‘역대급’이었다. 7년 만의 통합 우승과 팀 통산 12번째 한국시리즈 우승을 거머쥐며 인상적인 기록을 써내려 갔다. 한국프로야구 최다 우승팀인 기아 타이거즈의 화려한 2024 시즌을 소개한다.', 'language': 'ko'}, page_content='기아 타이거즈의 압도적인 경기력은 자연스럽게 많은 관중들을 불러 모으는 원동력이 됐다. 그 결과 기아 타이거즈는 8월 28일 ‘59번째 경기 만에 홈 100만 관중 돌파’라는 기록을 세웠다. 이 기록이 놀라운 것은 종전에는 71경기 만에 달성했던 홈 100만 관중 기록을 무려 12경기나 앞당겼기 때문이다.\\n\\n\\n\\n\\n\\n\\n\\n\\n\\n\\n\\n\\n\\n\\n\\n\\n\\n\\n\\n\\n\\n이 외에도 기아 타이거즈는 9월 3일 홈경기에서 102만 6,235명의 누적 관중을 달성하며 ‘한 시즌 최다 관중 신기록’을 남겼다. 이런 기세를 바탕으로 기아 타이거즈는 9월 7일 ‘역대 시즌 최다 매진 신기록’의 영광까지 가져갔다. 종전에는 21회였던 매진 기록을 올 시즌 22회로 늘린 것이다.\\xa0이 기록을 넘어 기아 타이거즈는 시즌 종료 시점에 매진 30회를 기록했다.\\n\\n\\n\\n\\n\\n\\n\\n\\n\\n\\n\\n\\n\\n                                                        기아 타이거즈의 뛰어난 공수 능력 덕분에 팀 통산 2,800승이라는 진기록을 달성했다\\n                                                    \\n\\n\\n\\n\\n\\n\\n\\n완벽한 공격과 수비 그리고 팬들의 열띤 응원이 더해진 결과, 기아 타이거즈는 KBO 리그 역대 3번째로 ‘팀 통산 2,800승’이라는 기록까지 남길 수 있었다. 이 기록은 시즌 최종전인 9월 30일 홈에서 달성됐기에 그 어떤 기록보다 의미가 남달랐다. 이런 역대급 기록 행진은 당연히 기아 타이거즈의 성적으로 연결됐다. 그리고 모두가 아는 것처럼 기아 타이거즈는 87승 2무 55패, 0.613의 승률로 당당히 ‘2024 정규 시즌 1위’에 오를 수 있었다.\\n\\n\\n\\n\\n\\n\\n\\n\\n대투수 양현종, 4번 타자 최형우, 슈퍼스타 김도영이 남긴 진기록'),\n",
            " Document(metadata={'source': 'https://www.hyundai.co.kr/story/CONT0000000000163479', 'title': '기아 타이거즈, 역대급 기록으로 7년 만의 통합 우승을 완성하다', 'description': '올 시즌 기아 타이거즈의 활약은 말 그대로 ‘역대급’이었다. 7년 만의 통합 우승과 팀 통산 12번째 한국시리즈 우승을 거머쥐며 인상적인 기록을 써내려 갔다. 한국프로야구 최다 우승팀인 기아 타이거즈의 화려한 2024 시즌을 소개한다.', 'language': 'ko'}, page_content='대투수 양현종, 4번 타자 최형우, 슈퍼스타 김도영이 남긴 진기록\\n\\n\\n\\n\\n\\n\\n\\n\\n\\n\\n\\n\\n\\n\\n\\n\\n\\n\\n\\n기아 타이거즈의 기록 행진은 개별 선수들로도 이어졌다. 기아 타이거즈의 명실상부한 에이스이자 리그 최고의 좌완 투수 양현종이 대표적이다. 대투수라는 별명을 가진 양현종은 기아 타이거즈 유니폼을 입고 여러 대기록을 써나가고 있으며, 그중 일부는 올 시즌에 결실을 맺었다.\\n\\n\\n\\n\\n\\n\\n\\n\\n\\n\\n\\n\\n\\n\\n\\n\\n\\n\\n\\n\\n\\n양현종의 올 시즌 대표적인 기록은 KBO 리그 ‘최초 400경기 선발 등판’, ‘역대 최다 탈삼진’, ‘최초 10시즌 연속 170이닝 달성’ 등이다. 투수 한 명이 평생 하나도 이루기 힘든 대기록을 양현종은 올 시즌 차례로 달성했다.\\n\\n\\n\\n\\n\\n\\n\\n\\n\\n\\n\\n\\n                                                            양현종 선수는 최고의 기량으로 대기록을 써 내려가는 중이다\\n                                                        \\n\\n\\n\\n\\n\\n\\n\\n\\n\\n\\n또한 양현종은 8월 21일 홈경기에서 2,049번째 삼진을 잡으며 KBO 리그 역대 최다 탈삼진이라는 대기록도 완성했다. 이 기록이 더욱 놀라운 것은 양현종이 아직 현역이라는 사실이다. 실제로 양현종은 대기록 경신 이후 꾸준히 탈삼진 개수를 추가해 시즌 종료 후 ‘2,076탈삼진’이라는 엄청난 기록을 남겼다.\\n\\n\\n\\n\\n\\n\\n\\n\\n\\n\\n\\n\\n\\n\\n\\n\\n\\n\\n\\n\\n\\n최형우는 2017 시즌부터 기아 타이거즈와 함께하며 타이거즈에 없어서는 안 될 4번 타자가 됐다. 그 사이 최형우는 여러 기록을 써오고 있는데, 올 시즌도 변함없이 기아 타이거즈 유니폼을 입고 다수의 기록을 만들어 갔다.'),\n",
            " Document(metadata={'source': 'https://www.hyundai.co.kr/story/CONT0000000000163479', 'title': '기아 타이거즈, 역대급 기록으로 7년 만의 통합 우승을 완성하다', 'description': '올 시즌 기아 타이거즈의 활약은 말 그대로 ‘역대급’이었다. 7년 만의 통합 우승과 팀 통산 12번째 한국시리즈 우승을 거머쥐며 인상적인 기록을 써내려 갔다. 한국프로야구 최다 우승팀인 기아 타이거즈의 화려한 2024 시즌을 소개한다.', 'language': 'ko'}, page_content='최형우는 2017 시즌부터 기아 타이거즈와 함께하며 타이거즈에 없어서는 안 될 4번 타자가 됐다. 그 사이 최형우는 여러 기록을 써오고 있는데, 올 시즌도 변함없이 기아 타이거즈 유니폼을 입고 다수의 기록을 만들어 갔다.\\n\\n\\n\\n\\n\\n\\n\\n\\n\\n\\n\\n\\n\\n                                                        아시아 최초로 통산 500개의 2루타를 달성한 최형우 선수\\n                                                    \\n\\n\\n\\n\\n\\n\\n\\n그중 눈여겨볼 기록은 루타와 타점 부문이다. 최형우는 지난 5월 10일 홈경기에서 아시아 최초로 ‘통산 500개의 2루타 달성’이라는 기록을 세웠다. 아시아 최초라는 기록에서 알 수 있듯, 이는 일본 프로야구에서도 찾아볼 수 없는 전대미문의 기록이다.\\xa0\\n\\n\\n\\n\\n\\n\\n\\n\\n\\n\\n\\n\\n\\n\\n\\n\\n\\n\\n\\n\\n\\n\\n\\n최형우는 KBO 리그 ‘역대 최다 루타’ 기록도 갈아치웠다. 지난 6월 11일 SSG 랜더스와의 문학 원정 경기에서 4,077번째 루타를 달성하며 최다 기록 타이를 이룬 뒤, 이튿날 경기에서 바로 안타를 추가해 ‘4,078루타’라는 최다 기록을 작성했다. 최형우의 최다 루타 신기록은 여기서 멈추지 않았다. 6월 19일 홈경기에서 KBO 리그 역대 최초로 ‘4,100루타’를 달성한 것을 비롯해 시즌 종료 시점에는 무려 ‘4,178루타’를 달성하며 이 부문에서 독보적인 기록을 세웠다.\\n\\n\\n\\n\\n\\n\\n\\n\\n\\n\\n\\n\\n                                                            최형우 선수는 기아 타이거즈 4번 타자로 맹활약하고 있다'),\n",
            " Document(metadata={'source': 'https://www.hyundai.co.kr/story/CONT0000000000163479', 'title': '기아 타이거즈, 역대급 기록으로 7년 만의 통합 우승을 완성하다', 'description': '올 시즌 기아 타이거즈의 활약은 말 그대로 ‘역대급’이었다. 7년 만의 통합 우승과 팀 통산 12번째 한국시리즈 우승을 거머쥐며 인상적인 기록을 써내려 갔다. 한국프로야구 최다 우승팀인 기아 타이거즈의 화려한 2024 시즌을 소개한다.', 'language': 'ko'}, page_content='최형우 선수는 기아 타이거즈 4번 타자로 맹활약하고 있다\\n                                                        \\n\\n\\n\\n\\n\\n\\n\\n\\n\\n\\n올 시즌 최형우가 기록한 또 다른 대기록은 바로 타점이다. 그는 6월 14일 KT 위즈와의 원정 경기에서 ‘KBO 리그 최초 1,600타점’을 기록했다. 매 시즌 100타점 안팎의 꾸준한 타점 생산 능력이 없다면 불가능한 기록인데, 최형우는 올 시즌이 끝난 뒤 1,651타점을 기록해 다음 시즌 1,700타점 돌파도 가능할 것으로 예상된다.\\n\\n\\n\\n\\n\\n\\n\\n\\n\\n\\n\\n\\n\\n\\n\\n\\n\\n\\n\\n\\n\\n올 시즌 기아 타이거즈에서 가장 주목받은 선수는 누가 뭐라 해도 김도영이었다. 올 시즌 유력한 MVP 후보이기도 한 김도영은 여러 신기록을 수차례 달성했다. 그중에는 21살의 프로 3년차 선수에게서 보기 어려운 대기록도 포함돼 눈길을 끌었다.\\n\\n\\n\\n\\n\\n\\n\\n\\n\\n\\n\\n\\n                                                            김도영 선수는 30-30 클럽을 달성한 최연소 선수가 됐다\\n                                                        \\n\\n\\n\\n\\n\\n\\n\\n\\n\\n\\n김도영의 올 시즌 기록 중 단연 눈에 띄는 것은 호타준족의 상징인 ‘30-30 클럽’이다. 한 시즌 30개의 홈런과 30개의 도루를 동시에 달성해야 하는 이 기록은 김도영 이전에 6명의 선수밖에 달성하지 못했다. 특히, 김도영은 30홈런-30도루 대기록을 최연소인 20세 10개월 13일 만에 달성해 모든 야구팬의 이목을 집중시켰다.'),\n",
            " Document(metadata={'source': 'https://www.hyundai.co.kr/story/CONT0000000000163479', 'title': '기아 타이거즈, 역대급 기록으로 7년 만의 통합 우승을 완성하다', 'description': '올 시즌 기아 타이거즈의 활약은 말 그대로 ‘역대급’이었다. 7년 만의 통합 우승과 팀 통산 12번째 한국시리즈 우승을 거머쥐며 인상적인 기록을 써내려 갔다. 한국프로야구 최다 우승팀인 기아 타이거즈의 화려한 2024 시즌을 소개한다.', 'language': 'ko'}, page_content='김도영의 올 시즌 기록 중 단연 눈에 띄는 것은 호타준족의 상징인 ‘30-30 클럽’이다. 한 시즌 30개의 홈런과 30개의 도루를 동시에 달성해야 하는 이 기록은 김도영 이전에 6명의 선수밖에 달성하지 못했다. 특히, 김도영은 30홈런-30도루 대기록을 최연소인 20세 10개월 13일 만에 달성해 모든 야구팬의 이목을 집중시켰다.\\xa0\\n\\n\\n\\n\\n\\n\\n\\n\\n\\n\\n\\n\\n                                                            경기마다 김도영 선수의 활약이 빛났다\\n                                                        \\n\\n\\n\\n\\n\\n\\n\\n\\n\\n\\n사실, 김도영의 대활약과 신기록 달성은 시즌 초부터 시작됐다. 시즌이 개막된 지 한 달여밖에 되지 않은 4월 25일, 키움 히어로즈와의 고척 원정 경기에서 ‘KBO 리그 최초의 월간 10홈런-10도루’를 달성한 것이다. 40년이 넘는 KBO 리그 역사에서 그 누구도 달성하지 못한 기록이었기에 김도영은 순식간에 KBO 리그의 스타 반열에 올라설 수 있었다.\\n\\n\\n\\n\\n\\n\\n\\n\\n\\n\\n\\n\\n\\n\\n\\n\\n\\n\\n\\n\\n\\n김도영의 기록 행진은 여기서 멈추지 않았다. 7월 23일 홈경기에서 1루타, 2루타, 3루타, 홈런을 차례대로 기록하는 ‘내추럴 사이클링 히트’를 KBO 리그 역대 2번째로 달성했다. 그리고 9월 9일 홈경기에서 타이거즈 최초이자, KBO 리그 역대 3번째로 ‘30홈런-30도루-100득점-100타점’이라는 대기록까지 완성했다. 그의 이런 활약이 없었다면 기아 타이거즈의 1위 달성이 어려웠을 수도 있다는 평가가 있을 정도로 올 시즌 김도영의 존재감은 대단했다.\\xa0\\n\\n\\n\\n\\n\\n\\n\\n\\n타선과 불펜에서 만점 활약을 보여준 선수들과 인상적인 기록들'),\n",
            " Document(metadata={'source': 'https://www.hyundai.co.kr/story/CONT0000000000163479', 'title': '기아 타이거즈, 역대급 기록으로 7년 만의 통합 우승을 완성하다', 'description': '올 시즌 기아 타이거즈의 활약은 말 그대로 ‘역대급’이었다. 7년 만의 통합 우승과 팀 통산 12번째 한국시리즈 우승을 거머쥐며 인상적인 기록을 써내려 갔다. 한국프로야구 최다 우승팀인 기아 타이거즈의 화려한 2024 시즌을 소개한다.', 'language': 'ko'}, page_content='타선과 불펜에서 만점 활약을 보여준 선수들과 인상적인 기록들\\n\\n\\n\\n\\n\\n\\n\\n\\n\\n\\n\\n\\n\\n\\n\\n\\n\\n\\n\\n한편, 올 시즌 기아 타이거즈가 엄청난 성적을 남길 수 있었던 데에는 타선과 불펜에서 맹활약을 펼친 타자와 투수들의 몫도 컸다. 이들은 때로는 주연으로, 때로는 조연을 자처하며 기아 타이거즈가 원팀을 이루는 데 큰 역할을 했다.\\n\\n\\n\\n\\n\\n\\n\\n\\n\\n\\n\\n\\n\\n                                                        올 시즌 꾸준히 뛰어난 기량을 발휘했던 박찬호 선수\\n                                                    \\n\\n\\n\\n\\n\\n\\n\\n타선에서는 올 시즌 1번 타순에서 포문을 열었던 박찬호, 상위 타선으로의 연결 고리 역할을 했던 소크라테스의 활약을 빼놓을 수 없었다. 이런 활약 속에서 두 선수 모두 각자 의미 있는 기록을 남기기까지 했다. 박찬호가 이번 시즌 남긴 대표적인 기록으로는 ‘6시즌 연속 100안타 달성’이다. KBO 역사상 박찬호 포함 단 68명 만이 세운 기록으로, 그의 꾸준한 활약이 없다면 불가능한 기록 달성이다.\\n\\n\\n\\n\\n\\n\\n\\n\\n\\n\\n\\n\\n\\n                                                        소크라테스 선수는 타선에서 해결사 역할을 톡톡히 했다\\n                                                    \\n\\n\\n\\n\\n\\n\\n\\n기아 타이거즈의 유일한 외국인 타자 소크라테스 브리토(Socrates Orel Brito)가 남긴 기록도 눈에 띈다. 올 시즌 정규 리그에서 171개의 안타, 26개의 홈런, 97개의 타점 등으로 맹활약을 펼친 소크라테스는 시즌 중반 의미 있는 기록을 만들어냈다. 기아 타이거즈의 유니폼을 입고 뛴 지난 2022년부터 올해까지 ‘3시즌 연속 150안타’를 기록한 것이다.'),\n",
            " Document(metadata={'source': 'https://www.hyundai.co.kr/story/CONT0000000000163479', 'title': '기아 타이거즈, 역대급 기록으로 7년 만의 통합 우승을 완성하다', 'description': '올 시즌 기아 타이거즈의 활약은 말 그대로 ‘역대급’이었다. 7년 만의 통합 우승과 팀 통산 12번째 한국시리즈 우승을 거머쥐며 인상적인 기록을 써내려 갔다. 한국프로야구 최다 우승팀인 기아 타이거즈의 화려한 2024 시즌을 소개한다.', 'language': 'ko'}, page_content='5번과 6번 타순에서 많은 타점을 수확한 나성범과 김선빈이 만들어낸 기록도 눈여겨볼 만하다. 어느덧 프로 12년 차 베테랑 타자가 된 나성범은 올 시즌 여러 개의 개인 기록을 갈아치웠다. 나성범이 올 시즌 남긴 기록을 살펴보면 ‘1,300경기 출장’, ‘600개 4사구 달성’, ‘5시즌 연속 10홈런’, ‘1,000득점-1,000타점’, ‘2,900루타’, ‘1,700안타’ 등이 있다.\\n\\n\\n\\n\\n\\n\\n\\n\\n\\n\\n\\n\\n                                                            올해로 16시즌째 기아 타이거즈의 유니폼을 입고서 활약하는 김선빈 선수\\n                                                        \\n\\n\\n\\n\\n\\n\\n\\n\\n\\n\\n기아 타이거즈에서만 16시즌째 대활약을 이어가고 있는 프렌차이즈 스타 김선빈의 기록도 인상적이다. 통산 ‘5,000타수’, ‘700득점’, ‘200개 2루타’, ‘600타점’, ‘1,600경기 출장’, ‘1,600안타’, ‘2,000루타’, ‘8시즌 연속 100안타’ 등이 올 시즌 김선빈이 만든 기록이다. 기록 하나하나가 놀라운데, 이 모든 기록이 오직 기아 타이거즈 유니폼을 입고 달성했다는 점에서 그 의미가 남다르다고 할 수 있다.\\n\\n\\n\\n\\n\\n\\n\\n\\n\\n\\n\\n\\n\\n                                                        서건창, 최원준 선수 등 기아 타이거즈의 많은 선수들이 우승에 힘을 보탰다'),\n",
            " Document(metadata={'source': 'https://www.hyundai.co.kr/story/CONT0000000000163479', 'title': '기아 타이거즈, 역대급 기록으로 7년 만의 통합 우승을 완성하다', 'description': '올 시즌 기아 타이거즈의 활약은 말 그대로 ‘역대급’이었다. 7년 만의 통합 우승과 팀 통산 12번째 한국시리즈 우승을 거머쥐며 인상적인 기록을 써내려 갔다. 한국프로야구 최다 우승팀인 기아 타이거즈의 화려한 2024 시즌을 소개한다.', 'language': 'ko'}, page_content='서건창, 최원준 선수 등 기아 타이거즈의 많은 선수들이 우승에 힘을 보탰다\\n                                                    \\n\\n\\n\\n\\n\\n\\n\\n이 밖에도 다른 타자들의 활약과 기록 역시 돋보였다. 중견수로서 외야 수비를 진두지휘한 최원준은 공격에서도 인상적인 활약을 펼치며 ‘4시즌 연속 10도루’와 ‘통산 100도루 달성’이라는 기록을 남겼으며, 부상자들이 나올 때마다 알토란 같은 활약을 펼친 서건창은 베테랑 선수로서 만들 수 있는 기록을 다수 남겼다. 그중에는 ‘1,400안타’와 ‘600개 4사구’도 포함돼 있다.\\n\\n\\n\\n\\n\\n\\n\\n\\n\\n\\n\\n\\n\\n\\n\\n\\n\\n\\n\\n\\n\\n한편 올 시즌 기아 타이거즈의 선발진은 불안했다. 에이스 양현종을 제외하면 4명의 선발 투수가 크고 작은 부상으로 인해 선발 로테이션을 제대로 소화하지 못했다. 이런 악조건에서 기아 타이거즈가 정규 시즌을 넘어 한국시리즈까지 우승을 차지할 수 있었던 것은 불펜을 든든하게 지킨 마무리 투수 정해영, 셋업맨(마무리 투수에 앞서 등판하여 리드를 유지하는 역할을 하는 투수) 전상현 같은 투수들의 활약이 컸다.\\n\\n\\n\\n\\n\\n\\n\\n\\n\\n\\n\\n\\n                                                            기아 타이거즈 마무리 투수인 정해영 선수는 젊은 나이에도 여러 대기록을 남겼다\\n                                                        \\n\\n\\n\\n\\n\\n\\n\\n\\n\\n\\n이처럼 불펜 투수들이 각자 맡은 자리에서 초특급 활약을 펼치면서 자연스럽게 개인 기록 달성도 이뤄졌다. 마무리 투수 정해영은 ‘최연소 100세이브’ 달성과 KBO 리그 역대 17번째 ‘120세이브’, ‘4시즌 연속 50경기 출장’, ‘4시즌 연속 20세이브’와 같은 여러 기록을 만 23세의 나이로 갈아치웠다.'),\n",
            " Document(metadata={'source': 'https://www.hyundai.co.kr/story/CONT0000000000163479', 'title': '기아 타이거즈, 역대급 기록으로 7년 만의 통합 우승을 완성하다', 'description': '올 시즌 기아 타이거즈의 활약은 말 그대로 ‘역대급’이었다. 7년 만의 통합 우승과 팀 통산 12번째 한국시리즈 우승을 거머쥐며 인상적인 기록을 써내려 갔다. 한국프로야구 최다 우승팀인 기아 타이거즈의 화려한 2024 시즌을 소개한다.', 'language': 'ko'}, page_content='이처럼 불펜 투수들이 각자 맡은 자리에서 초특급 활약을 펼치면서 자연스럽게 개인 기록 달성도 이뤄졌다. 마무리 투수 정해영은 ‘최연소 100세이브’ 달성과 KBO 리그 역대 17번째 ‘120세이브’, ‘4시즌 연속 50경기 출장’, ‘4시즌 연속 20세이브’와 같은 여러 기록을 만 23세의 나이로 갈아치웠다.\\n\\n\\n\\n\\n\\n\\n\\n\\n\\n\\n\\n\\n\\n\\n\\n\\n\\n\\n\\n\\n\\n\\n\\n불펜의 중심축을 이루고 있는 전상현도 올 시즌 개인과 팀 모두에게 의미 있는 기록을 달성했다. 그중 하나가 바로 ‘기아 타이거즈 팀 최다 68홀드’ 달성이다. 해당 기록을 시즌초 일찌감치 경신한 전상현은 시즌이 끝난 시점에서 84개의 홀드를 기록해 기아 타이거즈 선수 중 여전히 1위를 유지 중이다. 이 외에도 전상현은 ‘3시즌 연속 10홀드’, 역대 9번째로 ‘한 시즌 10승-10홀드’와 같은 기록도 남겼다.\\n\\n\\n\\n\\n\\n\\n\\n\\n12번째 한국시리즈 우승! ‘한국시리즈 최다 우승 팀’이라는 진기록으로 마무리된 2024 시즌\\n\\n\\n\\n\\n\\n\\n\\n\\n\\n\\n\\n                                                        한국시리즈 우승이 확정된 순간 기아 타이거즈 선수들은 서로를 얼싸안으며 우승의 기쁨을 나누었다'),\n",
            " Document(metadata={'source': 'https://www.hyundai.co.kr/story/CONT0000000000163479', 'title': '기아 타이거즈, 역대급 기록으로 7년 만의 통합 우승을 완성하다', 'description': '올 시즌 기아 타이거즈의 활약은 말 그대로 ‘역대급’이었다. 7년 만의 통합 우승과 팀 통산 12번째 한국시리즈 우승을 거머쥐며 인상적인 기록을 써내려 갔다. 한국프로야구 최다 우승팀인 기아 타이거즈의 화려한 2024 시즌을 소개한다.', 'language': 'ko'}, page_content='한국시리즈 우승이 확정된 순간 기아 타이거즈 선수들은 서로를 얼싸안으며 우승의 기쁨을 나누었다\\n                                                    \\n\\n\\n\\n\\n\\n\\n\\n기아 타이거즈의 2024 시즌은 가히 ‘역대급’이라고 하기에 손색없었다. 놀라운 기록을 써 내려간 선수들의 힘이 모여 강력한 팀워크를 발휘했고, 그 결과 기아 타이거즈는 압도적인 격차로 정규 리그 우승을 차지할 수 있었다. 기아 타이거즈의 상승세는 한국시리즈에서도 계속 됐다. 사상 초유의 우천으로 인한 서스펜디드 게임, 경기 취소와 같은 변수가 있었지만, 통합 우승을 향한 기아 타이거즈의 열정을 막을 수 없었다. 무엇보다 한국시리즈에서는 시즌 내내 꾸준한 활약을 펼친 선수들 외에도 뒤에서 묵묵히 조연을 자처했던 선수들이 주연으로 나서며 기아 타이거즈 전체가 완벽한 모습을 보여줬다.'),\n",
            " Document(metadata={'source': 'https://www.hyundai.co.kr/story/CONT0000000000163479', 'title': '기아 타이거즈, 역대급 기록으로 7년 만의 통합 우승을 완성하다', 'description': '올 시즌 기아 타이거즈의 활약은 말 그대로 ‘역대급’이었다. 7년 만의 통합 우승과 팀 통산 12번째 한국시리즈 우승을 거머쥐며 인상적인 기록을 써내려 갔다. 한국프로야구 최다 우승팀인 기아 타이거즈의 화려한 2024 시즌을 소개한다.', 'language': 'ko'}, page_content='이처럼 팀 하나가 똘똘 뭉쳐 단결된 모습을 보여준 결과, 기아 타이거즈는 시리즈 전적 4승 1패라는 압도적인 성적과 함께 ‘7년 만의 통합 우승’이자, ‘12번째 한국시리즈 우승’이라는 금자탑을 쌓았다. 동시에 기아 타이거즈는 ‘한국시리즈 최다 우승 팀’이라는 대기록까지 달성하며 2024 시즌을 화려하게 마무리 지었다. 시즌 초부터 기아 타이거즈의 여러 선수들이 만들어 나간 개인 기록이 한국시리즈 최다 우승이라는 엄청난 팀 기록과 함께 마무리된 순간이었다.\\xa0물론 기아 타이거즈의 활약은 다음 시즌에도 계속될 전망이다. 올 시즌 맹활약을 펼친 선수들을 비롯해 최초의 1980년대생 감독으로 부임 첫 해에 통합 우승이라는 대기록을 남긴 이범호 감독과 코치진이 변함없이 함께 할 예정이기 때문이다. 올 시즌과 같은 기아 타이거즈의 기량이 꾸준히 이어진다면 2시즌 연속 통합 우승, 13번의 한국시리즈 우승이라는 대기록을 다음 시즌에도 볼 수 있을 것이다.\\n\\n\\n\\n\\n\\n\\n\\n\\n\\n\\n\\n공유하기\\n\\n\\n\\n\\nTwitter\\n\\n\\n\\n\\nFacebook\\n\\n\\n\\n\\nKakaoTalk\\n\\n\\n\\n\\nLine\\n\\n\\n\\n\\nCopy link\\n\\n\\n\\n\\n\\n인쇄\\n\\n\\n\\n#KIA타이거즈\\n\\n\\n\\n\\n\\n\\n\\n\\nHMG 저널 운영팀\\n\\ngroup@hyundai.com\\n\\n\\n\\n                                HMG 저널에서 제공되는 정보는 크리에이티브 커먼즈(CCL) 2.0 정책에 따라 콘텐츠의 복제와 배포, 전송, 전시 및 공연 등에 활용할 수 있으며, 저작권에 의해 보호됩니다.\\n단, 정보 사용자는 HMG 저널에서 제공하는 정보를 개인 목적으로만 사용할 수 있습니다.'),\n",
            " Document(metadata={'source': 'https://www.hyundai.co.kr/story/CONT0000000000163479', 'title': '기아 타이거즈, 역대급 기록으로 7년 만의 통합 우승을 완성하다', 'description': '올 시즌 기아 타이거즈의 활약은 말 그대로 ‘역대급’이었다. 7년 만의 통합 우승과 팀 통산 12번째 한국시리즈 우승을 거머쥐며 인상적인 기록을 써내려 갔다. 한국프로야구 최다 우승팀인 기아 타이거즈의 화려한 2024 시즌을 소개한다.', 'language': 'ko'}, page_content='HMG 운영정책 알아보기\\n                                        \\n                                        \\n                                    \\n                                \\n\\n\\n\\n\\n\\n\\n\\n\\n\\n\\n추천 콘텐츠\\n\\n\\n\\n\\n\\n\\n\\n\\n                                                            유소년 대상 활동에서 찾은 스포츠의 미래 – 현대자동차그룹 스포츠단\\n                                                        \\n\\n2023.11.24\\n7분 읽기\\n\\n\\n\\n\\n\\n\\n추천 콘텐츠 닫기\\n\\n\\n\\n\\n\\n\\n\\n\\n\\n\\n\\n\\nTOP')]\n"
          ]
        }
      ]
    },
    {
      "cell_type": "code",
      "source": [
        "print(\"안녕\\n\\n하세요\")"
      ],
      "metadata": {
        "colab": {
          "base_uri": "https://localhost:8080/"
        },
        "id": "1fWuLcVCiyCz",
        "outputId": "6f2c4748-b2dd-403f-8a8a-285cf6cb5a0f"
      },
      "execution_count": null,
      "outputs": [
        {
          "output_type": "stream",
          "name": "stdout",
          "text": [
            "안녕\n",
            "\n",
            "하세요\n"
          ]
        }
      ]
    },
    {
      "cell_type": "code",
      "source": [
        "from langchain_openai import ChatOpenAI\n",
        "from langchain_chroma import Chroma\n",
        "from langchain_community.document_loaders import WebBaseLoader\n",
        "from langchain_text_splitters import RecursiveCharacterTextSplitter\n",
        "from langchain_openai import OpenAIEmbeddings\n",
        "\n",
        "llm = ChatOpenAI(model=\"gpt-4o-mini\")\n",
        "\n",
        "loader = WebBaseLoader(\n",
        "    web_paths=(\"https://www.hyundai.co.kr/story/CONT0000000000163479\",),\n",
        ")\n",
        "docs = loader.load()\n",
        "\n",
        "text_splitter = RecursiveCharacterTextSplitter(chunk_size=1000, chunk_overlap=200)\n",
        "splits = text_splitter.split_documents(docs)\n",
        "\n",
        "# split 된 문서들을 ChromaDB 에 embedding 해서 넣어주는 과정\n",
        "# ChromaDB 는 대표적인 오픈소스 벡터 데이터베이스 중 하나\n",
        "# 어떤 임베딩모델을 사용할지, 어떤 문서 조각을 저장할지를 정해준다.\n",
        "# OpenAIEmbeddings 에 아무 인자도 주지 않으면 \"text-embedding-ada-002\" 모델이 사용된다\n",
        "vectorstore = Chroma.from_documents(documents=splits, embedding=OpenAIEmbeddings(model=\"text-embedding-3-small\"))\n",
        "\n",
        "# 임베딩을 저장한 DB 를 리트리버로 만들기.\n",
        "retriever = vectorstore.as_retriever()\n",
        "\n",
        "# 리트리버는 invoke 호출 가능한 Runnable 이다. 체이닝이 가능하다는 뜻\n",
        "docs = retriever.invoke(\"2024년 한국시리즈 우승팀은?\")\n",
        "\n",
        "for doc in docs:\n",
        "    print(f\"{doc=}\", end=\"\\n\\n\")\n"
      ],
      "metadata": {
        "colab": {
          "base_uri": "https://localhost:8080/"
        },
        "id": "VIht7BKHizpQ",
        "outputId": "57fb00a0-0e96-4282-9360-a9bc894f6714"
      },
      "execution_count": null,
      "outputs": [
        {
          "output_type": "stream",
          "name": "stdout",
          "text": [
            "doc=Document(metadata={'description': '올 시즌 기아 타이거즈의 활약은 말 그대로 ‘역대급’이었다. 7년 만의 통합 우승과 팀 통산 12번째 한국시리즈 우승을 거머쥐며 인상적인 기록을 써내려 갔다. 한국프로야구 최다 우승팀인 기아 타이거즈의 화려한 2024 시즌을 소개한다.', 'language': 'ko', 'source': 'https://www.hyundai.co.kr/story/CONT0000000000163479', 'title': '기아 타이거즈, 역대급 기록으로 7년 만의 통합 우승을 완성하다'}, page_content='한국시리즈 우승이 확정된 순간 기아 타이거즈 선수들은 서로를 얼싸안으며 우승의 기쁨을 나누었다\\n                                                    \\n\\n\\n\\n\\n\\n\\n\\n기아 타이거즈의 2024 시즌은 가히 ‘역대급’이라고 하기에 손색없었다. 놀라운 기록을 써 내려간 선수들의 힘이 모여 강력한 팀워크를 발휘했고, 그 결과 기아 타이거즈는 압도적인 격차로 정규 리그 우승을 차지할 수 있었다. 기아 타이거즈의 상승세는 한국시리즈에서도 계속 됐다. 사상 초유의 우천으로 인한 서스펜디드 게임, 경기 취소와 같은 변수가 있었지만, 통합 우승을 향한 기아 타이거즈의 열정을 막을 수 없었다. 무엇보다 한국시리즈에서는 시즌 내내 꾸준한 활약을 펼친 선수들 외에도 뒤에서 묵묵히 조연을 자처했던 선수들이 주연으로 나서며 기아 타이거즈 전체가 완벽한 모습을 보여줬다.')\n",
            "\n",
            "doc=Document(metadata={'description': '올 시즌 기아 타이거즈의 활약은 말 그대로 ‘역대급’이었다. 7년 만의 통합 우승과 팀 통산 12번째 한국시리즈 우승을 거머쥐며 인상적인 기록을 써내려 갔다. 한국프로야구 최다 우승팀인 기아 타이거즈의 화려한 2024 시즌을 소개한다.', 'language': 'ko', 'source': 'https://www.hyundai.co.kr/story/CONT0000000000163479', 'title': '기아 타이거즈, 역대급 기록으로 7년 만의 통합 우승을 완성하다'}, page_content='뜨거운 팬심으로 이룬 기아 타이거즈의 관중 동원 기록들\\n                                                    \\n\\n\\n\\n                                                        대투수 양현종, 4번 타자 최형우, 슈퍼스타 김도영이 남긴 진기록\\n                                                    \\n\\n\\n\\n                                                        타선과 불펜에서 만점 활약을 보여준 선수들과 인상적인 기록들\\n                                                    \\n\\n\\n\\n                                                        12번째 한국시리즈 우승! ‘한국시리즈 최다 우승 팀’이라는 진기록으로 마무리된 2024 시즌\\n                                                    \\n\\n\\n\\n\\n\\n\\n\\n\\n\\n\\n\\n\\n\\n\\n\\n\\n\\n\\n\\n\\n\\n\\n\\n\\n2024 시즌 KBO 리그는 그 어느 때보다 뜨거웠다. 시즌 초부터 순위 싸움이 치열했던 가운데, 시즌 마지막까지 포스트 진출이 가능한 5위 자리를 차지하기 위한 경쟁의 불씨가 활활 타올랐다. 각 팀 간의 뜨거운 열정 덕분에 자연스레 사람들의 관심도 야구장으로 집중됐다. 그 결과 사상 최초로 1,000만 관중 돌파라는 대기록이 수립되기도 했다.')\n",
            "\n",
            "doc=Document(metadata={'description': '올 시즌 기아 타이거즈의 활약은 말 그대로 ‘역대급’이었다. 7년 만의 통합 우승과 팀 통산 12번째 한국시리즈 우승을 거머쥐며 인상적인 기록을 써내려 갔다. 한국프로야구 최다 우승팀인 기아 타이거즈의 화려한 2024 시즌을 소개한다.', 'language': 'ko', 'source': 'https://www.hyundai.co.kr/story/CONT0000000000163479', 'title': '기아 타이거즈, 역대급 기록으로 7년 만의 통합 우승을 완성하다'}, page_content='이처럼 팀 하나가 똘똘 뭉쳐 단결된 모습을 보여준 결과, 기아 타이거즈는 시리즈 전적 4승 1패라는 압도적인 성적과 함께 ‘7년 만의 통합 우승’이자, ‘12번째 한국시리즈 우승’이라는 금자탑을 쌓았다. 동시에 기아 타이거즈는 ‘한국시리즈 최다 우승 팀’이라는 대기록까지 달성하며 2024 시즌을 화려하게 마무리 지었다. 시즌 초부터 기아 타이거즈의 여러 선수들이 만들어 나간 개인 기록이 한국시리즈 최다 우승이라는 엄청난 팀 기록과 함께 마무리된 순간이었다.\\xa0물론 기아 타이거즈의 활약은 다음 시즌에도 계속될 전망이다. 올 시즌 맹활약을 펼친 선수들을 비롯해 최초의 1980년대생 감독으로 부임 첫 해에 통합 우승이라는 대기록을 남긴 이범호 감독과 코치진이 변함없이 함께 할 예정이기 때문이다. 올 시즌과 같은 기아 타이거즈의 기량이 꾸준히 이어진다면 2시즌 연속 통합 우승, 13번의 한국시리즈 우승이라는 대기록을 다음 시즌에도 볼 수 있을 것이다.\\n\\n\\n\\n\\n\\n\\n\\n\\n\\n\\n\\n공유하기\\n\\n\\n\\n\\nTwitter\\n\\n\\n\\n\\nFacebook\\n\\n\\n\\n\\nKakaoTalk\\n\\n\\n\\n\\nLine\\n\\n\\n\\n\\nCopy link\\n\\n\\n\\n\\n\\n인쇄\\n\\n\\n\\n#KIA타이거즈\\n\\n\\n\\n\\n\\n\\n\\n\\nHMG 저널 운영팀\\n\\ngroup@hyundai.com\\n\\n\\n\\n                                HMG 저널에서 제공되는 정보는 크리에이티브 커먼즈(CCL) 2.0 정책에 따라 콘텐츠의 복제와 배포, 전송, 전시 및 공연 등에 활용할 수 있으며, 저작권에 의해 보호됩니다.\\n단, 정보 사용자는 HMG 저널에서 제공하는 정보를 개인 목적으로만 사용할 수 있습니다.')\n",
            "\n",
            "doc=Document(metadata={'description': '올 시즌 기아 타이거즈의 활약은 말 그대로 ‘역대급’이었다. 7년 만의 통합 우승과 팀 통산 12번째 한국시리즈 우승을 거머쥐며 인상적인 기록을 써내려 갔다. 한국프로야구 최다 우승팀인 기아 타이거즈의 화려한 2024 시즌을 소개한다.', 'language': 'ko', 'source': 'https://www.hyundai.co.kr/story/CONT0000000000163479', 'title': '기아 타이거즈, 역대급 기록으로 7년 만의 통합 우승을 완성하다'}, page_content='이처럼 불펜 투수들이 각자 맡은 자리에서 초특급 활약을 펼치면서 자연스럽게 개인 기록 달성도 이뤄졌다. 마무리 투수 정해영은 ‘최연소 100세이브’ 달성과 KBO 리그 역대 17번째 ‘120세이브’, ‘4시즌 연속 50경기 출장’, ‘4시즌 연속 20세이브’와 같은 여러 기록을 만 23세의 나이로 갈아치웠다.\\n\\n\\n\\n\\n\\n\\n\\n\\n\\n\\n\\n\\n\\n\\n\\n\\n\\n\\n\\n\\n\\n\\n\\n불펜의 중심축을 이루고 있는 전상현도 올 시즌 개인과 팀 모두에게 의미 있는 기록을 달성했다. 그중 하나가 바로 ‘기아 타이거즈 팀 최다 68홀드’ 달성이다. 해당 기록을 시즌초 일찌감치 경신한 전상현은 시즌이 끝난 시점에서 84개의 홀드를 기록해 기아 타이거즈 선수 중 여전히 1위를 유지 중이다. 이 외에도 전상현은 ‘3시즌 연속 10홀드’, 역대 9번째로 ‘한 시즌 10승-10홀드’와 같은 기록도 남겼다.\\n\\n\\n\\n\\n\\n\\n\\n\\n12번째 한국시리즈 우승! ‘한국시리즈 최다 우승 팀’이라는 진기록으로 마무리된 2024 시즌\\n\\n\\n\\n\\n\\n\\n\\n\\n\\n\\n\\n                                                        한국시리즈 우승이 확정된 순간 기아 타이거즈 선수들은 서로를 얼싸안으며 우승의 기쁨을 나누었다')\n",
            "\n"
          ]
        }
      ]
    },
    {
      "cell_type": "code",
      "source": [
        "from langchain_core.prompts import ChatPromptTemplate\n",
        "from langchain_chroma import Chroma\n",
        "from langchain_community.document_loaders import WebBaseLoader\n",
        "from langchain_openai import OpenAIEmbeddings\n",
        "from langchain_text_splitters import RecursiveCharacterTextSplitter\n",
        "\n",
        "\n",
        "loader = WebBaseLoader(web_paths=(\"https://www.hyundai.co.kr/story/CONT0000000000163479\",),)\n",
        "docs = loader.load()\n",
        "\n",
        "text_splitter = RecursiveCharacterTextSplitter(chunk_size=1000, chunk_overlap=200)\n",
        "splits = text_splitter.split_documents(docs)\n",
        "\n",
        "vectorstore = Chroma.from_documents(documents=splits, embedding=OpenAIEmbeddings())\n",
        "\n",
        "# Retrieve and generate using the relevant snippets of the blog.\n",
        "retriever = vectorstore.as_retriever()\n",
        "\n",
        "# 대표적인 RAG 프롬프트 템플릿을 한국어로 번역한 프롬프트\n",
        "# 영어 버전으로 사용하는게 LLM 입장에서는 알아듣기 편하나, 성능 낮은 모델의 경우 답변이 영어로 나올 수 있음.\n",
        "prompt = ChatPromptTemplate.from_template(\"\"\"\n",
        "당신은 질문 답변 작업의 보조자입니다.\n",
        "검색된 다음 문맥을 사용하여 질문에 답하세요.\n",
        "답을 모른다면 모른다고 말하세요.\n",
        "답변은 최대 세 문장으로 간결하게 작성하세요.\n",
        "\n",
        "Question: %질문들어갈자리%\n",
        "\n",
        "Context: {context}\n",
        "\n",
        "Answer: \"\"\")\n",
        "\n",
        "# 딕셔너리 형태로 체이닝을 시켜도 Dictionary 의 Value 를 invoke 해준다.\n",
        "chain = {\"context\": retriever, } | prompt\n",
        "\n",
        "result = chain.invoke(\"2024년 한국시리즈 우승팀은?\")\n",
        "\n",
        "print(result)"
      ],
      "metadata": {
        "colab": {
          "base_uri": "https://localhost:8080/"
        },
        "id": "aVwJRonFlhrD",
        "outputId": "a5d468af-c78e-44db-fb1a-f6ac4fbbaf4c"
      },
      "execution_count": null,
      "outputs": [
        {
          "output_type": "stream",
          "name": "stdout",
          "text": [
            "messages=[HumanMessage(content=\"\\n당신은 질문 답변 작업의 보조자입니다.\\n검색된 다음 문맥을 사용하여 질문에 답하세요.\\n답을 모른다면 모른다고 말하세요.\\n답변은 최대 세 문장으로 간결하게 작성하세요.\\n\\nQuestion: %질문들어갈자리%\\n\\nContext: [Document(metadata={'description': '올 시즌 기아 타이거즈의 활약은 말 그대로 ‘역대급’이었다. 7년 만의 통합 우승과 팀 통산 12번째 한국시리즈 우승을 거머쥐며 인상적인 기록을 써내려 갔다. 한국프로야구 최다 우승팀인 기아 타이거즈의 화려한 2024 시즌을 소개한다.', 'language': 'ko', 'source': 'https://www.hyundai.co.kr/story/CONT0000000000163479', 'title': '기아 타이거즈, 역대급 기록으로 7년 만의 통합 우승을 완성하다'}, page_content='한국시리즈 우승이 확정된 순간 기아 타이거즈 선수들은 서로를 얼싸안으며 우승의 기쁨을 나누었다\\\\n                                                    \\\\n\\\\n\\\\n\\\\n\\\\n\\\\n\\\\n\\\\n기아 타이거즈의 2024 시즌은 가히 ‘역대급’이라고 하기에 손색없었다. 놀라운 기록을 써 내려간 선수들의 힘이 모여 강력한 팀워크를 발휘했고, 그 결과 기아 타이거즈는 압도적인 격차로 정규 리그 우승을 차지할 수 있었다. 기아 타이거즈의 상승세는 한국시리즈에서도 계속 됐다. 사상 초유의 우천으로 인한 서스펜디드 게임, 경기 취소와 같은 변수가 있었지만, 통합 우승을 향한 기아 타이거즈의 열정을 막을 수 없었다. 무엇보다 한국시리즈에서는 시즌 내내 꾸준한 활약을 펼친 선수들 외에도 뒤에서 묵묵히 조연을 자처했던 선수들이 주연으로 나서며 기아 타이거즈 전체가 완벽한 모습을 보여줬다.'), Document(metadata={'description': '올 시즌 기아 타이거즈의 활약은 말 그대로 ‘역대급’이었다. 7년 만의 통합 우승과 팀 통산 12번째 한국시리즈 우승을 거머쥐며 인상적인 기록을 써내려 갔다. 한국프로야구 최다 우승팀인 기아 타이거즈의 화려한 2024 시즌을 소개한다.', 'language': 'ko', 'source': 'https://www.hyundai.co.kr/story/CONT0000000000163479', 'title': '기아 타이거즈, 역대급 기록으로 7년 만의 통합 우승을 완성하다'}, page_content='뜨거운 팬심으로 이룬 기아 타이거즈의 관중 동원 기록들\\\\n                                                    \\\\n\\\\n\\\\n\\\\n                                                        대투수 양현종, 4번 타자 최형우, 슈퍼스타 김도영이 남긴 진기록\\\\n                                                    \\\\n\\\\n\\\\n\\\\n                                                        타선과 불펜에서 만점 활약을 보여준 선수들과 인상적인 기록들\\\\n                                                    \\\\n\\\\n\\\\n\\\\n                                                        12번째 한국시리즈 우승! ‘한국시리즈 최다 우승 팀’이라는 진기록으로 마무리된 2024 시즌\\\\n                                                    \\\\n\\\\n\\\\n\\\\n\\\\n\\\\n\\\\n\\\\n\\\\n\\\\n\\\\n\\\\n\\\\n\\\\n\\\\n\\\\n\\\\n\\\\n\\\\n\\\\n\\\\n\\\\n\\\\n\\\\n\\\\n2024 시즌 KBO 리그는 그 어느 때보다 뜨거웠다. 시즌 초부터 순위 싸움이 치열했던 가운데, 시즌 마지막까지 포스트 진출이 가능한 5위 자리를 차지하기 위한 경쟁의 불씨가 활활 타올랐다. 각 팀 간의 뜨거운 열정 덕분에 자연스레 사람들의 관심도 야구장으로 집중됐다. 그 결과 사상 최초로 1,000만 관중 돌파라는 대기록이 수립되기도 했다.'), Document(metadata={'description': '올 시즌 기아 타이거즈의 활약은 말 그대로 ‘역대급’이었다. 7년 만의 통합 우승과 팀 통산 12번째 한국시리즈 우승을 거머쥐며 인상적인 기록을 써내려 갔다. 한국프로야구 최다 우승팀인 기아 타이거즈의 화려한 2024 시즌을 소개한다.', 'language': 'ko', 'source': 'https://www.hyundai.co.kr/story/CONT0000000000163479', 'title': '기아 타이거즈, 역대급 기록으로 7년 만의 통합 우승을 완성하다'}, page_content='이처럼 팀 하나가 똘똘 뭉쳐 단결된 모습을 보여준 결과, 기아 타이거즈는 시리즈 전적 4승 1패라는 압도적인 성적과 함께 ‘7년 만의 통합 우승’이자, ‘12번째 한국시리즈 우승’이라는 금자탑을 쌓았다. 동시에 기아 타이거즈는 ‘한국시리즈 최다 우승 팀’이라는 대기록까지 달성하며 2024 시즌을 화려하게 마무리 지었다. 시즌 초부터 기아 타이거즈의 여러 선수들이 만들어 나간 개인 기록이 한국시리즈 최다 우승이라는 엄청난 팀 기록과 함께 마무리된 순간이었다.\\\\xa0물론 기아 타이거즈의 활약은 다음 시즌에도 계속될 전망이다. 올 시즌 맹활약을 펼친 선수들을 비롯해 최초의 1980년대생 감독으로 부임 첫 해에 통합 우승이라는 대기록을 남긴 이범호 감독과 코치진이 변함없이 함께 할 예정이기 때문이다. 올 시즌과 같은 기아 타이거즈의 기량이 꾸준히 이어진다면 2시즌 연속 통합 우승, 13번의 한국시리즈 우승이라는 대기록을 다음 시즌에도 볼 수 있을 것이다.\\\\n\\\\n\\\\n\\\\n\\\\n\\\\n\\\\n\\\\n\\\\n\\\\n\\\\n\\\\n공유하기\\\\n\\\\n\\\\n\\\\n\\\\nTwitter\\\\n\\\\n\\\\n\\\\n\\\\nFacebook\\\\n\\\\n\\\\n\\\\n\\\\nKakaoTalk\\\\n\\\\n\\\\n\\\\n\\\\nLine\\\\n\\\\n\\\\n\\\\n\\\\nCopy link\\\\n\\\\n\\\\n\\\\n\\\\n\\\\n인쇄\\\\n\\\\n\\\\n\\\\n#KIA타이거즈\\\\n\\\\n\\\\n\\\\n\\\\n\\\\n\\\\n\\\\n\\\\nHMG 저널 운영팀\\\\n\\\\ngroup@hyundai.com\\\\n\\\\n\\\\n\\\\n                                HMG 저널에서 제공되는 정보는 크리에이티브 커먼즈(CCL) 2.0 정책에 따라 콘텐츠의 복제와 배포, 전송, 전시 및 공연 등에 활용할 수 있으며, 저작권에 의해 보호됩니다.\\\\n단, 정보 사용자는 HMG 저널에서 제공하는 정보를 개인 목적으로만 사용할 수 있습니다.'), Document(metadata={'description': '올 시즌 기아 타이거즈의 활약은 말 그대로 ‘역대급’이었다. 7년 만의 통합 우승과 팀 통산 12번째 한국시리즈 우승을 거머쥐며 인상적인 기록을 써내려 갔다. 한국프로야구 최다 우승팀인 기아 타이거즈의 화려한 2024 시즌을 소개한다.', 'language': 'ko', 'source': 'https://www.hyundai.co.kr/story/CONT0000000000163479', 'title': '기아 타이거즈, 역대급 기록으로 7년 만의 통합 우승을 완성하다'}, page_content='이처럼 불펜 투수들이 각자 맡은 자리에서 초특급 활약을 펼치면서 자연스럽게 개인 기록 달성도 이뤄졌다. 마무리 투수 정해영은 ‘최연소 100세이브’ 달성과 KBO 리그 역대 17번째 ‘120세이브’, ‘4시즌 연속 50경기 출장’, ‘4시즌 연속 20세이브’와 같은 여러 기록을 만 23세의 나이로 갈아치웠다.\\\\n\\\\n\\\\n\\\\n\\\\n\\\\n\\\\n\\\\n\\\\n\\\\n\\\\n\\\\n\\\\n\\\\n\\\\n\\\\n\\\\n\\\\n\\\\n\\\\n\\\\n\\\\n\\\\n\\\\n불펜의 중심축을 이루고 있는 전상현도 올 시즌 개인과 팀 모두에게 의미 있는 기록을 달성했다. 그중 하나가 바로 ‘기아 타이거즈 팀 최다 68홀드’ 달성이다. 해당 기록을 시즌초 일찌감치 경신한 전상현은 시즌이 끝난 시점에서 84개의 홀드를 기록해 기아 타이거즈 선수 중 여전히 1위를 유지 중이다. 이 외에도 전상현은 ‘3시즌 연속 10홀드’, 역대 9번째로 ‘한 시즌 10승-10홀드’와 같은 기록도 남겼다.\\\\n\\\\n\\\\n\\\\n\\\\n\\\\n\\\\n\\\\n\\\\n12번째 한국시리즈 우승! ‘한국시리즈 최다 우승 팀’이라는 진기록으로 마무리된 2024 시즌\\\\n\\\\n\\\\n\\\\n\\\\n\\\\n\\\\n\\\\n\\\\n\\\\n\\\\n\\\\n                                                        한국시리즈 우승이 확정된 순간 기아 타이거즈 선수들은 서로를 얼싸안으며 우승의 기쁨을 나누었다')]\\n\\nAnswer: \")]\n"
          ]
        }
      ]
    },
    {
      "cell_type": "code",
      "source": [
        "from langchain_core.prompts import ChatPromptTemplate\n",
        "from langchain_chroma import Chroma\n",
        "from langchain_community.document_loaders import WebBaseLoader\n",
        "from langchain_openai import OpenAIEmbeddings\n",
        "from langchain_text_splitters import RecursiveCharacterTextSplitter\n",
        "\n",
        "\n",
        "loader = WebBaseLoader(\n",
        "    web_paths=(\"https://www.hyundai.co.kr/story/CONT0000000000163479\",),\n",
        ")\n",
        "docs = loader.load()\n",
        "\n",
        "text_splitter = RecursiveCharacterTextSplitter(chunk_size=1000, chunk_overlap=200)\n",
        "splits = text_splitter.split_documents(docs)\n",
        "\n",
        "vectorstore = Chroma.from_documents(documents=splits, embedding=OpenAIEmbeddings())\n",
        "\n",
        "retriever = vectorstore.as_retriever()\n",
        "\n",
        "prompt = ChatPromptTemplate.from_template(\"\"\"\n",
        "당신은 질문 답변 작업의 보조자입니다.\n",
        "검색된 다음 문맥을 사용하여 질문에 답하세요.\n",
        "답을 모른다면 모른다고 말하세요.\n",
        "답변은 최대 세 문장으로 간결하게 작성하세요.\n",
        "\n",
        "Question: %질문들어갈자리%\n",
        "\n",
        "Context: {context}\n",
        "\n",
        "Answer: \"\"\")\n",
        "\n",
        "\n",
        "def format_docs(docs):\n",
        "    return \"\\n\\n\".join(doc.page_content for doc in docs)\n",
        "\n",
        "\n",
        "# invoke 가 안 되는 일반 함수도 아래처럼 체이닝이 가능하다. 이를 RunnableLambda 라고 부른다\n",
        "chain = {\"context\": retriever | format_docs} | prompt\n",
        "\n",
        "result = chain.invoke(\"2024년 한국시리즈 우승팀은?\")\n",
        "\n",
        "print(result)\n"
      ],
      "metadata": {
        "id": "pFRwvZMQoY2a"
      },
      "execution_count": null,
      "outputs": []
    },
    {
      "cell_type": "code",
      "source": [
        "from langchain_openai import ChatOpenAI\n",
        "from langchain_core.prompts import ChatPromptTemplate\n",
        "from langchain_chroma import Chroma\n",
        "from langchain_community.document_loaders import WebBaseLoader\n",
        "from langchain_core.output_parsers import StrOutputParser\n",
        "from langchain_core.runnables import RunnablePassthrough\n",
        "from langchain_openai import OpenAIEmbeddings\n",
        "from langchain_text_splitters import RecursiveCharacterTextSplitter\n",
        "\n",
        "llm = ChatOpenAI(model=\"gpt-4o-mini\")\n",
        "\n",
        "loader = WebBaseLoader(\n",
        "    web_paths=(\"https://www.hyundai.co.kr/story/CONT0000000000163479\",),\n",
        ")\n",
        "docs = loader.load()\n",
        "\n",
        "text_splitter = RecursiveCharacterTextSplitter(chunk_size=1000, chunk_overlap=200)\n",
        "splits = text_splitter.split_documents(docs)\n",
        "vectorstore = Chroma.from_documents(documents=splits, embedding=OpenAIEmbeddings())\n",
        "\n",
        "retriever = vectorstore.as_retriever()\n",
        "\n",
        "prompt_template = ChatPromptTemplate.from_messages([(\"user\", \"\"\"\n",
        "당신은 질문 답변 작업의 보조자입니다. 검색된 다음 문맥을 사용하여 질문에 답하세요. 답을 모른다면 모른다고 말하세요. 답변은 최대 세 문장으로 간결하게 작성하세요.\n",
        "\n",
        "Question: {question}\n",
        "\n",
        "Context: {context}\n",
        "\n",
        "Answer:\n",
        "\"\"\")])\n",
        "\n",
        "\n",
        "def format_docs(docs):\n",
        "    return \"\\n\\n\".join(doc.page_content for doc in docs)\n",
        "\n",
        "\n",
        "# RunnablePassthrough 는 앞서 들어온 값을 그대로 자기 자리에 담는다\n",
        "# 이 경우는 \"2024년 한국시리즈 우승팀은?\" 라는 입력이 retriever 에도 들어가고, question 에도 들어가는 셈\n",
        "rag_chain = (\n",
        "        {\"context\": retriever | format_docs, \"question\": RunnablePassthrough()}\n",
        "        | prompt_template\n",
        "        | llm\n",
        "        | StrOutputParser()\n",
        ")\n",
        "\n",
        "result = rag_chain.invoke(\"2024년 한국시리즈 우승팀은?\")\n",
        "\n",
        "print(result)\n"
      ],
      "metadata": {
        "id": "t_r7o8_uq31T"
      },
      "execution_count": null,
      "outputs": []
    },
    {
      "cell_type": "code",
      "source": [
        "class MyClass:\n",
        "    def __init__(self):\n",
        "\n",
        "    def __str__(self):\n",
        "\n",
        "    def __pipe__(self):\n"
      ],
      "metadata": {
        "id": "tUCRYLkhvbB2"
      },
      "execution_count": null,
      "outputs": []
    }
  ]
}